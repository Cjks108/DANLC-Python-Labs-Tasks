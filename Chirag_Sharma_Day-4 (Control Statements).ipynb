{
 "cells": [
  {
   "cell_type": "code",
   "execution_count": null,
   "id": "230a0270-06de-4a53-b763-d45d91573cfc",
   "metadata": {},
   "outputs": [],
   "source": [
    "1.\tPython program to check leap year."
   ]
  },
  {
   "cell_type": "code",
   "execution_count": 59,
   "id": "fdfb98d3-5a51-4675-90c4-0741b50b97ab",
   "metadata": {},
   "outputs": [
    {
     "name": "stdin",
     "output_type": "stream",
     "text": [
      "Enter a year:  2055\n"
     ]
    },
    {
     "name": "stdout",
     "output_type": "stream",
     "text": [
      "2055 is Not a Leap Year\n"
     ]
    }
   ],
   "source": [
    "year = int(input(\"Enter a year: \"))\n",
    "\n",
    "if (year % 4 == 0 and year % 100 != 0) or (year % 400 == 0):\n",
    "    print(f\"{year} is a Leap Year\")\n",
    "else:\n",
    "    print(f\"{year} is Not a Leap Year\")"
   ]
  },
  {
   "cell_type": "code",
   "execution_count": null,
   "id": "82dfd350-f814-4433-84ad-27bf74900160",
   "metadata": {},
   "outputs": [],
   "source": [
    "2.\tPython Program to Find the Largest Among Three Numbers."
   ]
  },
  {
   "cell_type": "code",
   "execution_count": 61,
   "id": "362995b4-eb68-4da8-844e-786805ca45f6",
   "metadata": {},
   "outputs": [
    {
     "name": "stdin",
     "output_type": "stream",
     "text": [
      "Enter first number:  4\n",
      "Enter second number:  4\n",
      "Enter third number:  7\n"
     ]
    },
    {
     "name": "stdout",
     "output_type": "stream",
     "text": [
      "The largest number is: 7.0\n"
     ]
    }
   ],
   "source": [
    "num1 = float(input(\"Enter first number: \"))\n",
    "num2 = float(input(\"Enter second number: \"))\n",
    "num3 = float(input(\"Enter third number: \"))\n",
    "\n",
    "# Finding the largest number\n",
    "if num1 >= num2 and num1 >= num3:\n",
    "    largest = num1\n",
    "elif num2 >= num1 and num2 >= num3:\n",
    "    largest = num2\n",
    "else:\n",
    "    largest = num3\n",
    "\n",
    "print(f\"The largest number is: {largest}\")"
   ]
  },
  {
   "cell_type": "code",
   "execution_count": null,
   "id": "915d1bd6-d3e7-4d99-a430-1020a5766076",
   "metadata": {},
   "outputs": [],
   "source": [
    "3.\tPython Program to Check if a Number is Positive, Negative or 0."
   ]
  },
  {
   "cell_type": "code",
   "execution_count": 63,
   "id": "6a7dcc16-454b-41f3-a981-42cc5a88943a",
   "metadata": {},
   "outputs": [
    {
     "name": "stdin",
     "output_type": "stream",
     "text": [
      "Enter a number:  77\n"
     ]
    },
    {
     "name": "stdout",
     "output_type": "stream",
     "text": [
      "Positive\n"
     ]
    }
   ],
   "source": [
    "num = float(input(\"Enter a number: \"))\n",
    "\n",
    "if num > 0:\n",
    "    print(\"Positive\")\n",
    "elif num < 0:\n",
    "    print(\"Negative\")\n",
    "else:\n",
    "    print(\"Zero\")"
   ]
  },
  {
   "cell_type": "code",
   "execution_count": null,
   "id": "37166f33-68bd-41f6-9114-3cc4f7bd26b7",
   "metadata": {},
   "outputs": [],
   "source": [
    "4.\tA toy vendor supplies three types of toys: Battery Based Toys, Key-based Toys, and Electrical Charging Based Toys. The vendor gives a discount of 10% on orders for battery-based toys if the order is for more than Rs. 1000. On orders of more than Rs. 100 for key-based toys, a discount of 5% is given, and a discount of 10% is given on orders for electrical charging based toys of value more than Rs. 500. Assume that the numeric codes 1,2 and 3 are used for battery based toys, key-based toys, and electrical charging based toys respectively. Write a program that reads the product code and the order amount and prints out the net amount that the customer is required to pay after the discount. "
   ]
  },
  {
   "cell_type": "code",
   "execution_count": 67,
   "id": "04e1a3f2-d2d8-4d5e-8f66-9a7585a52530",
   "metadata": {},
   "outputs": [
    {
     "name": "stdin",
     "output_type": "stream",
     "text": [
      "Enter the product code (1: Battery, 2: Key-based, 3: Electrical Charging):  3\n",
      "Enter the order amount (in Rs.):  20000\n"
     ]
    },
    {
     "name": "stdout",
     "output_type": "stream",
     "text": [
      "Discount Applied: Rs. 2000.00\n",
      "Net Amount to Pay: Rs. 18000.00\n"
     ]
    }
   ],
   "source": [
    "# Get user input\n",
    "product_code = int(input(\"Enter the product code (1: Battery, 2: Key-based, 3: Electrical Charging): \"))\n",
    "order_amount = float(input(\"Enter the order amount (in Rs.): \"))\n",
    "\n",
    "# Initialize discount\n",
    "discount = 0\n",
    "\n",
    "# Apply discount based on product type and order amount\n",
    "if product_code == 1 and order_amount > 1000:\n",
    "    discount = 0.10  # 10% discount for battery-based toys if amount > Rs. 1000\n",
    "elif product_code == 2 and order_amount > 100:\n",
    "    discount = 0.05  # 5% discount for key-based toys if amount > Rs. 100\n",
    "elif product_code == 3 and order_amount > 500:\n",
    "    discount = 0.10  # 10% discount for electrical charging-based toys if amount > Rs. 500\n",
    "\n",
    "# Calculate net amount\n",
    "discount_amount = order_amount * discount\n",
    "net_amount = order_amount - discount_amount\n",
    "\n",
    "# Display results\n",
    "print(f\"Discount Applied: Rs. {discount_amount:.2f}\")\n",
    "print(f\"Net Amount to Pay: Rs. {net_amount:.2f}\")"
   ]
  },
  {
   "cell_type": "code",
   "execution_count": null,
   "id": "bed0d693-1400-4d70-89b9-881f238205cc",
   "metadata": {},
   "outputs": [],
   "source": [
    "5.     Write a Python program that takes a number as input and prints \"Even\" if the number is even and \"Odd\" if it's odd."
   ]
  },
  {
   "cell_type": "code",
   "execution_count": 47,
   "id": "4eb0c462-1a4b-4d13-8eae-637fd05a1e6b",
   "metadata": {},
   "outputs": [
    {
     "name": "stdin",
     "output_type": "stream",
     "text": [
      "Enter a number:  5\n"
     ]
    },
    {
     "name": "stdout",
     "output_type": "stream",
     "text": [
      "Odd\n"
     ]
    }
   ],
   "source": [
    "num = int(input(\"Enter a number: \"))\n",
    "\n",
    "if num % 2 == 0:\n",
    "    print(\"Even\")\n",
    "else:\n",
    "    print(\"Odd\")"
   ]
  },
  {
   "cell_type": "code",
   "execution_count": null,
   "id": "475b79ca-10bc-4e45-b63e-406489519809",
   "metadata": {},
   "outputs": [],
   "source": [
    "6.      Create a Python program that checks whether a person is eligible to vote (18 years or older) based on their age."
   ]
  },
  {
   "cell_type": "code",
   "execution_count": 49,
   "id": "83a7e276-1dce-439d-b31d-ab07382f3e56",
   "metadata": {},
   "outputs": [
    {
     "name": "stdin",
     "output_type": "stream",
     "text": [
      "Enter your age:  19\n"
     ]
    },
    {
     "name": "stdout",
     "output_type": "stream",
     "text": [
      "Eligible to vote\n"
     ]
    }
   ],
   "source": [
    "age = int(input(\"Enter your age: \"))\n",
    "\n",
    "if age >= 18:\n",
    "    print(\"Eligible to vote\")\n",
    "else:\n",
    "    print(\"Not eligible to vote\")"
   ]
  },
  {
   "cell_type": "code",
   "execution_count": null,
   "id": "6d18f4ff-b979-4a9e-9353-ed1f754893be",
   "metadata": {},
   "outputs": [],
   "source": [
    "7.      Write a Python program that determines if a given year is a leap year or not."
   ]
  },
  {
   "cell_type": "code",
   "execution_count": 51,
   "id": "53f9e8ee-dc09-4e9c-9b6d-7cd99a2821bf",
   "metadata": {},
   "outputs": [
    {
     "name": "stdin",
     "output_type": "stream",
     "text": [
      "Enter a year:  2029\n"
     ]
    },
    {
     "name": "stdout",
     "output_type": "stream",
     "text": [
      "Not a Leap Year\n"
     ]
    }
   ],
   "source": [
    "year = int(input(\"Enter a year: \"))\n",
    "\n",
    "if (year % 4 == 0 and year % 100 != 0) or (year % 400 == 0):\n",
    "    print(\"Leap Year\")\n",
    "else:\n",
    "    print(\"Not a Leap Year\")"
   ]
  },
  {
   "cell_type": "code",
   "execution_count": null,
   "id": "60efae25-6194-4647-99ea-90d6a577332c",
   "metadata": {},
   "outputs": [],
   "source": [
    "8.      Create a Python program that checks if a user-given number is positive, negative, or zero."
   ]
  },
  {
   "cell_type": "code",
   "execution_count": 53,
   "id": "0243af7e-2303-4a22-a901-169b78a53825",
   "metadata": {},
   "outputs": [
    {
     "name": "stdin",
     "output_type": "stream",
     "text": [
      "Enter a number:  6\n"
     ]
    },
    {
     "name": "stdout",
     "output_type": "stream",
     "text": [
      "Positive\n"
     ]
    }
   ],
   "source": [
    "num = float(input(\"Enter a number: \"))\n",
    "\n",
    "if num > 0:\n",
    "    print(\"Positive\")\n",
    "elif num < 0:\n",
    "    print(\"Negative\")\n",
    "else:\n",
    "    print(\"Zero\")"
   ]
  },
  {
   "cell_type": "code",
   "execution_count": null,
   "id": "6896ff5a-d9cf-4a4d-9675-e146c8598a26",
   "metadata": {},
   "outputs": [],
   "source": [
    "9.      Write a Python program that determines the largest of three numbers entered by the user."
   ]
  },
  {
   "cell_type": "code",
   "execution_count": 55,
   "id": "2497ffe4-5ab8-44a6-94dc-1c18b1d56001",
   "metadata": {},
   "outputs": [
    {
     "name": "stdin",
     "output_type": "stream",
     "text": [
      "Enter first number:  5\n",
      "Enter second number:  6\n",
      "Enter third number:  8\n"
     ]
    },
    {
     "name": "stdout",
     "output_type": "stream",
     "text": [
      "The largest number is: 8.0\n"
     ]
    }
   ],
   "source": [
    "num1 = float(input(\"Enter first number: \"))\n",
    "num2 = float(input(\"Enter second number: \"))\n",
    "num3 = float(input(\"Enter third number: \"))\n",
    "\n",
    "largest = max(num1, num2, num3)\n",
    "\n",
    "print(f\"The largest number is: {largest}\")"
   ]
  }
 ],
 "metadata": {
  "kernelspec": {
   "display_name": "Python 3 (ipykernel)",
   "language": "python",
   "name": "python3"
  },
  "language_info": {
   "codemirror_mode": {
    "name": "ipython",
    "version": 3
   },
   "file_extension": ".py",
   "mimetype": "text/x-python",
   "name": "python",
   "nbconvert_exporter": "python",
   "pygments_lexer": "ipython3",
   "version": "3.12.7"
  }
 },
 "nbformat": 4,
 "nbformat_minor": 5
}
