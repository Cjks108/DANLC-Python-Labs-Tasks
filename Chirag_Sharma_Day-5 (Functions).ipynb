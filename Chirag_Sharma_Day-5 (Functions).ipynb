{
 "cells": [
  {
   "cell_type": "markdown",
   "id": "ca965e60-6c2e-4023-94b6-185e3c9355cd",
   "metadata": {},
   "source": [
    "1.\tDeclare a div() function with two parameters. Then call the function and pass two numbers and display their division. "
   ]
  },
  {
   "cell_type": "code",
   "execution_count": 9,
   "id": "fd1f89e1-f6a0-4353-864f-8df2c1a5c1ff",
   "metadata": {},
   "outputs": [
    {
     "name": "stdout",
     "output_type": "stream",
     "text": [
      "Division result: 5.0\n"
     ]
    }
   ],
   "source": [
    "def div(a, b):\n",
    "    if b == 0:\n",
    "        print(\"Division by zero is not allowed.\")\n",
    "    else:\n",
    "        print(f\"Division result: {a / b}\")\n",
    "\n",
    "div(10, 2)  "
   ]
  },
  {
   "cell_type": "markdown",
   "id": "868b7d27-4dff-40eb-91f0-18c3e7ab943f",
   "metadata": {},
   "source": [
    "2.\tDeclare a square() function with one parameter.Then call the function and pass one number and display the square of that number . "
   ]
  },
  {
   "cell_type": "code",
   "execution_count": 11,
   "id": "245ffe55-61ca-47dd-b967-8c9c00047521",
   "metadata": {},
   "outputs": [
    {
     "name": "stdout",
     "output_type": "stream",
     "text": [
      "Square of 4: 16\n"
     ]
    }
   ],
   "source": [
    "def square(n):\n",
    "    print(f\"Square of {n}: {n ** 2}\")\n",
    "\n",
    "square(4)  "
   ]
  },
  {
   "cell_type": "markdown",
   "id": "c3f91937-291e-4603-977b-6bcd7ead0fe1",
   "metadata": {},
   "source": [
    "3.\tUsing max() and min() functions display the maximum and minimum of 5 random numbers. "
   ]
  },
  {
   "cell_type": "code",
   "execution_count": 13,
   "id": "1190ff99-de59-47b3-b277-80f7fd3f1477",
   "metadata": {},
   "outputs": [
    {
     "name": "stdout",
     "output_type": "stream",
     "text": [
      "Random numbers: [55, 47, 35, 31, 87]\n",
      "Maximum: 87\n",
      "Minimum: 31\n"
     ]
    }
   ],
   "source": [
    "import random\n",
    "\n",
    "# Generate 5 random numbers\n",
    "numbers = [random.randint(1, 100) for _ in range(5)]\n",
    "print(\"Random numbers:\", numbers)\n",
    "\n",
    "# Display max and min values\n",
    "print(\"Maximum:\", max(numbers))\n",
    "print(\"Minimum:\", min(numbers))"
   ]
  },
  {
   "cell_type": "markdown",
   "id": "5675552b-55c9-4c4e-b577-7c9e2fb06852",
   "metadata": {},
   "source": [
    "4.  Accept a name from the user and display that in lower case using lower() function."
   ]
  },
  {
   "cell_type": "code",
   "execution_count": 15,
   "id": "fc91a2fc-fe75-45f1-b880-f8216fa3ce01",
   "metadata": {},
   "outputs": [
    {
     "name": "stdin",
     "output_type": "stream",
     "text": [
      "Enter your name:  CHIRAG\n"
     ]
    },
    {
     "name": "stdout",
     "output_type": "stream",
     "text": [
      "Lowercase name: chirag\n"
     ]
    }
   ],
   "source": [
    "name = input(\"Enter your name: \")\n",
    "print(\"Lowercase name:\", name.lower())"
   ]
  },
  {
   "cell_type": "markdown",
   "id": "702d1136-5ced-46e5-9eec-c47375b40bd7",
   "metadata": {},
   "source": [
    "5.  Function without Parameters:"
   ]
  },
  {
   "cell_type": "code",
   "execution_count": 1,
   "id": "cf4f189d-3d18-4803-ae75-1ff3940ce02a",
   "metadata": {},
   "outputs": [
    {
     "name": "stdout",
     "output_type": "stream",
     "text": [
      "Hello, World!\n"
     ]
    }
   ],
   "source": [
    "def greet():\n",
    "    print(\"Hello, World!\")\n",
    "\n",
    "greet()  # Calling the function"
   ]
  },
  {
   "cell_type": "markdown",
   "id": "08ff6609-526b-4159-89b0-aed0c2ac574d",
   "metadata": {},
   "source": [
    "6.  Function with Parameter:"
   ]
  },
  {
   "cell_type": "code",
   "execution_count": 3,
   "id": "b79e48f1-cb33-476f-8a49-f1bf1c3b068e",
   "metadata": {},
   "outputs": [
    {
     "name": "stdout",
     "output_type": "stream",
     "text": [
      "Hello, Chirag!\n"
     ]
    }
   ],
   "source": [
    "def greet(name):\n",
    "    print(f\"Hello, {name}!\")\n",
    "\n",
    "greet(\"Chirag\")  # Output: Hello, Chirag!"
   ]
  },
  {
   "cell_type": "markdown",
   "id": "d369a273-a3a5-47a1-89e2-b2186b8a383f",
   "metadata": {},
   "source": [
    "7.  Function with Default Parameter:"
   ]
  },
  {
   "cell_type": "code",
   "execution_count": 5,
   "id": "94c35206-cd72-4da3-bb89-eb65f5f78bcc",
   "metadata": {},
   "outputs": [
    {
     "name": "stdout",
     "output_type": "stream",
     "text": [
      "Hello, Guest!\n",
      "Hello, Chirag!\n"
     ]
    }
   ],
   "source": [
    "def greet(name=\"Guest\"):\n",
    "    print(f\"Hello, {name}!\")\n",
    "\n",
    "greet()          # Output: Hello, Guest!\n",
    "greet(\"Chirag\")  # Output: Hello, Chirag!"
   ]
  },
  {
   "cell_type": "markdown",
   "id": "e3ebdfd5-bf39-4464-afb0-659e815d3e1d",
   "metadata": {},
   "source": [
    "8.  Function with Return Keyword:"
   ]
  },
  {
   "cell_type": "code",
   "execution_count": 7,
   "id": "18d8f617-0174-489d-9d0e-94e3556e50ea",
   "metadata": {},
   "outputs": [
    {
     "name": "stdout",
     "output_type": "stream",
     "text": [
      "8\n"
     ]
    }
   ],
   "source": [
    "def add(a, b):\n",
    "    return a + b\n",
    "\n",
    "result = add(5, 3)\n",
    "print(result)  # Output: 8"
   ]
  },
  {
   "cell_type": "markdown",
   "id": "81ef56ce-7d06-4c97-b9d8-bc7d564deaab",
   "metadata": {},
   "source": [
    "9. Recursion:"
   ]
  },
  {
   "cell_type": "code",
   "execution_count": 17,
   "id": "a207657c-a3eb-48ef-a7d5-cb3b9245c392",
   "metadata": {},
   "outputs": [
    {
     "name": "stdout",
     "output_type": "stream",
     "text": [
      "120\n"
     ]
    }
   ],
   "source": [
    "def factorial(n):\n",
    "    if n == 0:\n",
    "        return 1\n",
    "    return n * factorial(n - 1)\n",
    "\n",
    "print(factorial(5))  "
   ]
  }
 ],
 "metadata": {
  "kernelspec": {
   "display_name": "Python 3 (ipykernel)",
   "language": "python",
   "name": "python3"
  },
  "language_info": {
   "codemirror_mode": {
    "name": "ipython",
    "version": 3
   },
   "file_extension": ".py",
   "mimetype": "text/x-python",
   "name": "python",
   "nbconvert_exporter": "python",
   "pygments_lexer": "ipython3",
   "version": "3.12.7"
  }
 },
 "nbformat": 4,
 "nbformat_minor": 5
}
