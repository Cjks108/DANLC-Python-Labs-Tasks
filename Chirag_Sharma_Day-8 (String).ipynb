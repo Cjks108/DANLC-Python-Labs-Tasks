{
 "cells": [
  {
   "cell_type": "markdown",
   "id": "0579ecb8-62aa-4886-82d2-1bdff9461fdb",
   "metadata": {},
   "source": [
    "1. Write a Python program to count the occurrences of each word in a given sentence \n",
    "string = “To change the overall look of your document. To change the look available in the gallery”"
   ]
  },
  {
   "cell_type": "code",
   "execution_count": 90,
   "id": "3d7ef0a5-0f82-452e-ad36-43a577e3905b",
   "metadata": {},
   "outputs": [
    {
     "name": "stdout",
     "output_type": "stream",
     "text": [
      "to: 2\n",
      "change: 2\n",
      "the: 3\n",
      "overall: 1\n",
      "look: 2\n",
      "of: 1\n",
      "your: 1\n",
      "document.: 1\n",
      "available: 1\n",
      "in: 1\n",
      "gallery: 1\n"
     ]
    }
   ],
   "source": [
    "from collections import Counter\n",
    "\n",
    "string = \"To change the overall look of your document. To change the look available in the gallery\"\n",
    "# Convert the string to lowercase and split into words\n",
    "words = string.lower().split()\n",
    "# Count occurrences of each word\n",
    "word_count = Counter(words)\n",
    "\n",
    "# Display the word counts\n",
    "for word, count in word_count.items():\n",
    "    print(f\"{word}: {count}\")"
   ]
  },
  {
   "cell_type": "markdown",
   "id": "235a6673-de10-49a2-bee9-1c5ad6529dd9",
   "metadata": {},
   "source": [
    "2. Write a Python program to remove a newline in Python \n",
    "String = \"\\nBest \\nDeeptech \\nPython \\nTraining\\n\""
   ]
  },
  {
   "cell_type": "code",
   "execution_count": 92,
   "id": "8f99fe84-af36-482c-8c67-1c46c62848ad",
   "metadata": {},
   "outputs": [
    {
     "name": "stdout",
     "output_type": "stream",
     "text": [
      "Best \n",
      "Deeptech \n",
      "Python \n",
      "Training\n"
     ]
    }
   ],
   "source": [
    "string = \"\\nBest \\nDeeptech \\nPython \\nTraining\\n\"\n",
    "# Remove newlines using the strip method\n",
    "cleaned_string = string.strip()\n",
    "print(cleaned_string)"
   ]
  },
  {
   "cell_type": "markdown",
   "id": "f188dfbf-b211-48b8-8d25-20bc3291341a",
   "metadata": {},
   "source": [
    "3. Write a Python program to reverse words in a string \n",
    "String = “Deeptech Python Training” "
   ]
  },
  {
   "cell_type": "code",
   "execution_count": 94,
   "id": "80784111-59a2-4ea2-807b-1ffa9cd8fd42",
   "metadata": {},
   "outputs": [
    {
     "name": "stdout",
     "output_type": "stream",
     "text": [
      "Training Python Deeptech\n"
     ]
    }
   ],
   "source": [
    "string = \"Deeptech Python Training\"\n",
    "# Split the string into words and reverse the list\n",
    "reversed_string = ' '.join(string.split()[::-1])\n",
    "print(reversed_string)"
   ]
  },
  {
   "cell_type": "markdown",
   "id": "6659b997-d469-43ae-9ba1-980edeb7c5b9",
   "metadata": {},
   "source": [
    "4. Write a Python program to count and display the vowels of a given text \n",
    "String=”Welcome to python Training\""
   ]
  },
  {
   "cell_type": "code",
   "execution_count": 96,
   "id": "132fcb5f-5f08-4d04-9e41-b11e07f3d62a",
   "metadata": {},
   "outputs": [
    {
     "name": "stdout",
     "output_type": "stream",
     "text": [
      "a: 1\n",
      "e: 2\n",
      "i: 2\n",
      "o: 3\n"
     ]
    }
   ],
   "source": [
    "string = \"Welcome to python Training\"\n",
    "vowels = \"aeiouAEIOU\"\n",
    "vowel_count = {v: 0 for v in vowels}\n",
    "\n",
    "# Count occurrences of each vowel\n",
    "for char in string:\n",
    "    if char in vowels:\n",
    "        vowel_count[char] += 1\n",
    "\n",
    "# Display the vowel count\n",
    "for vowel, count in vowel_count.items():\n",
    "    if count > 0:\n",
    "        print(f\"{vowel}: {count}\")"
   ]
  }
 ],
 "metadata": {
  "kernelspec": {
   "display_name": "Python 3 (ipykernel)",
   "language": "python",
   "name": "python3"
  },
  "language_info": {
   "codemirror_mode": {
    "name": "ipython",
    "version": 3
   },
   "file_extension": ".py",
   "mimetype": "text/x-python",
   "name": "python",
   "nbconvert_exporter": "python",
   "pygments_lexer": "ipython3",
   "version": "3.12.7"
  }
 },
 "nbformat": 4,
 "nbformat_minor": 5
}
