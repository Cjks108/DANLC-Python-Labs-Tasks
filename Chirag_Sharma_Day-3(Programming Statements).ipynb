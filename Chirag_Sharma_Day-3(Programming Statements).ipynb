{
 "cells": [
  {
   "cell_type": "markdown",
   "id": "e32ee5bb-e385-4d8b-816c-8bb043bd5b5b",
   "metadata": {},
   "source": [
    "1. Using input() function take one number from the user and using ternary operators check whether the number is even or odd "
   ]
  },
  {
   "cell_type": "code",
   "execution_count": 32,
   "id": "562f8e26-478c-4534-abcd-d8371b6bad8c",
   "metadata": {},
   "outputs": [
    {
     "name": "stdin",
     "output_type": "stream",
     "text": [
      "enter the number: 5\n"
     ]
    },
    {
     "name": "stdout",
     "output_type": "stream",
     "text": [
      "odd\n"
     ]
    }
   ],
   "source": [
    "num = int(input(\"enter the number:\"))\n",
    "if num % 2 == 0:\n",
    "    prin('even')\n",
    "else:\n",
    "    print('odd')"
   ]
  },
  {
   "cell_type": "markdown",
   "id": "d9d6ec0c-30a0-4425-99b7-9366adfab502",
   "metadata": {},
   "source": [
    "2. Using input function take two number and then swap the number "
   ]
  },
  {
   "cell_type": "code",
   "execution_count": 38,
   "id": "77ad04db-8917-44e9-bc56-4c5d6d34d526",
   "metadata": {},
   "outputs": [
    {
     "name": "stdin",
     "output_type": "stream",
     "text": [
      "enter the number:  12\n",
      "enter the number:  11\n"
     ]
    },
    {
     "name": "stdout",
     "output_type": "stream",
     "text": [
      "before swapping: num1 = 12, num2 = 11\n",
      "After swapping: num1 = 11, num2 = 12\n"
     ]
    }
   ],
   "source": [
    "num1 = int(input(\"enter the number: \"))\n",
    "num2 = int(input(\"enter the number: \"))      \n",
    "print(f\"before swapping: num1 = {num1}, num2 = {num2}\")\n",
    "num1 , num2 = num2 , num1\n",
    "print(f\"After swapping: num1 = {num1}, num2 = {num2}\")"
   ]
  },
  {
   "cell_type": "markdown",
   "id": "140fbfe8-197b-4b13-aafc-efa4713abbad",
   "metadata": {},
   "source": [
    "3. Write a Program to Convert Kilometers to Miles "
   ]
  },
  {
   "cell_type": "code",
   "execution_count": 42,
   "id": "917b5ea4-f623-414e-b328-b505ad2f307e",
   "metadata": {},
   "outputs": [
    {
     "name": "stdin",
     "output_type": "stream",
     "text": [
      " Enter the distance in kilometers :  23.76\n"
     ]
    },
    {
     "name": "stdout",
     "output_type": "stream",
     "text": [
      "23.76 kilometers is equal to 14.7637794744 miles.\n"
     ]
    }
   ],
   "source": [
    "km = float(input(\" Enter the distance in kilometers : \"))\n",
    "conversion_factor = 0.62137119\n",
    "miles = km * conversion_factor\n",
    "print(f\"{km} kilometers is equal to {miles} miles.\")"
   ]
  },
  {
   "cell_type": "markdown",
   "id": "edc8e2eb-2ed9-4a7b-b439-f006ff8f8fb7",
   "metadata": {},
   "source": [
    "4. Find the Simple Interest on Rs. 200 for 5 years at 5% per year."
   ]
  },
  {
   "cell_type": "code",
   "execution_count": 44,
   "id": "7386e811-aa07-4752-92d4-a237f1c3f349",
   "metadata": {},
   "outputs": [
    {
     "name": "stdout",
     "output_type": "stream",
     "text": [
      "the simple interest on Rs 200 for 5 years at 5 % per years is Rs50.00.\n"
     ]
    }
   ],
   "source": [
    "principal = 200\n",
    "rate = 5\n",
    "time = 5\n",
    "si = (principal * rate * time)/100\n",
    "print(f\"the simple interest on Rs {principal} for {time} years at {rate} % per years is Rs{si:.2f}.\")"
   ]
  }
 ],
 "metadata": {
  "kernelspec": {
   "display_name": "Python 3 (ipykernel)",
   "language": "python",
   "name": "python3"
  },
  "language_info": {
   "codemirror_mode": {
    "name": "ipython",
    "version": 3
   },
   "file_extension": ".py",
   "mimetype": "text/x-python",
   "name": "python",
   "nbconvert_exporter": "python",
   "pygments_lexer": "ipython3",
   "version": "3.12.7"
  }
 },
 "nbformat": 4,
 "nbformat_minor": 5
}
