{
 "cells": [
  {
   "cell_type": "markdown",
   "id": "794f8672-ee48-42cc-b1e6-6952669adaf1",
   "metadata": {},
   "source": [
    "1.\tWrite a Python program and calculate the mean of the below dictionary. test_dict = {\"A\" : 6, \"B\" : 9, \"C\" : 5, \"D\" : 7, \"E\" : 4}"
   ]
  },
  {
   "cell_type": "code",
   "execution_count": 133,
   "id": "6a0e14a3-5e03-446b-8c28-0f66b7976f9e",
   "metadata": {},
   "outputs": [
    {
     "name": "stdout",
     "output_type": "stream",
     "text": [
      "Mean of dictionary values: 6.2\n"
     ]
    }
   ],
   "source": [
    "test_dict = {\"A\": 6, \"B\": 9, \"C\": 5, \"D\": 7, \"E\": 4}\n",
    "\n",
    "mean_value = sum(test_dict.values()) / len(test_dict)\n",
    "print(\"Mean of dictionary values:\", mean_value)"
   ]
  },
  {
   "cell_type": "markdown",
   "id": "9ba201b1-abe2-4900-8a5e-f610fda84994",
   "metadata": {},
   "source": [
    "2.Write a Python script to concatenate the following dictionaries to create a new one. \n",
    "Sample Dictionary : dic1={1:10, 2:20} dic2={3:30, 4:40} dic3={5:50,6:60} \n",
    "Expected Result : {1: 10, 2: 20, 3: 30, 4: 40, 5: 50, 6: 60}"
   ]
  },
  {
   "cell_type": "code",
   "execution_count": 141,
   "id": "d07567fc-0910-4882-b609-4966f15f3712",
   "metadata": {},
   "outputs": [
    {
     "name": "stdout",
     "output_type": "stream",
     "text": [
      "Concatenated Dictionary: {1: 10, 2: 20, 3: 30, 4: 40, 5: 50, 6: 60}\n"
     ]
    }
   ],
   "source": [
    "dic1 = {1: 10, 2: 20}\n",
    "dic2 = {3: 30, 4: 40}\n",
    "dic3 = {5: 50, 6: 60}\n",
    "\n",
    "merged_dict = {**dic1, **dic2, **dic3}# **dic1 unpack the data\n",
    "print(\"Concatenated Dictionary:\", merged_dict)"
   ]
  },
  {
   "cell_type": "markdown",
   "id": "3a9e8d63-2333-43fe-ae66-d79f3087e2fd",
   "metadata": {},
   "source": [
    "3.Write a Python program to get the key, value and item in a dictionary. input:dict_num = {1: 10, 2: 20, 3: 30, 4: 40, 5: 50, 6: 60}"
   ]
  },
  {
   "cell_type": "code",
   "execution_count": 137,
   "id": "eb56b9b0-fa5f-4ab1-bffc-4340d65314de",
   "metadata": {},
   "outputs": [
    {
     "name": "stdout",
     "output_type": "stream",
     "text": [
      "Keys: [1, 2, 3, 4, 5, 6]\n",
      "Values: [10, 20, 30, 40, 50, 60]\n",
      "Items: [(1, 10), (2, 20), (3, 30), (4, 40), (5, 50), (6, 60)]\n"
     ]
    }
   ],
   "source": [
    "dict_num = {1: 10, 2: 20, 3: 30, 4: 40, 5: 50, 6: 60}\n",
    "\n",
    "print(\"Keys:\", list(dict_num.keys()))\n",
    "print(\"Values:\", list(dict_num.values()))\n",
    "print(\"Items:\", list(dict_num.items()))"
   ]
  },
  {
   "cell_type": "markdown",
   "id": "38390c8d-f552-4ef0-8302-6fb3672d0750",
   "metadata": {},
   "source": [
    "4.Write a Python program to get the key, value and item in a dictionary. Input: input_dict = {1: 10, 2: 20, 3:None, 4: 40, 5: None, 6: 60}"
   ]
  },
  {
   "cell_type": "code",
   "execution_count": 139,
   "id": "72870cbf-d41b-4a7c-ba89-78bc931f22d5",
   "metadata": {},
   "outputs": [
    {
     "name": "stdout",
     "output_type": "stream",
     "text": [
      "Keys: [1, 2, 3, 4, 5, 6]\n",
      "Values: [10, 20, None, 40, None, 60]\n",
      "Items: [(1, 10), (2, 20), (3, None), (4, 40), (5, None), (6, 60)]\n"
     ]
    }
   ],
   "source": [
    "input_dict = {1: 10, 2: 20, 3: None, 4: 40, 5: None, 6: 60}\n",
    "\n",
    "print(\"Keys:\", list(input_dict.keys()))\n",
    "print(\"Values:\", list(input_dict.values()))\n",
    "print(\"Items:\", list(input_dict.items()))"
   ]
  }
 ],
 "metadata": {
  "kernelspec": {
   "display_name": "Python 3 (ipykernel)",
   "language": "python",
   "name": "python3"
  },
  "language_info": {
   "codemirror_mode": {
    "name": "ipython",
    "version": 3
   },
   "file_extension": ".py",
   "mimetype": "text/x-python",
   "name": "python",
   "nbconvert_exporter": "python",
   "pygments_lexer": "ipython3",
   "version": "3.12.7"
  }
 },
 "nbformat": 4,
 "nbformat_minor": 5
}
