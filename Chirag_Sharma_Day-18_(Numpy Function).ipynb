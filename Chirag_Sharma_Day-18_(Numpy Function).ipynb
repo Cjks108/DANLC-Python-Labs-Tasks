{
 "cells": [
  {
   "cell_type": "markdown",
   "id": "bfadcff4-1375-43f2-8796-54121f030cce",
   "metadata": {},
   "source": [
    "1. Suppose you have a dataset containing daily temperature readings for a city, and you want to identify days with extreme temperature conditions. Find days where the temperature either exceeded 35 degrees Celsius (hot day) or dropped below 5 degrees Celsius (cold day). \n",
    "Input: temperatures = np.array([32.5, 34.2, 36.8, 29.3, 31.0, 38.7, 23.1, 18.5, 22.8, 37.2])"
   ]
  },
  {
   "cell_type": "code",
   "execution_count": 9,
   "id": "affdae9a-071d-4e21-89d4-99ae453b76d0",
   "metadata": {},
   "outputs": [
    {
     "name": "stdout",
     "output_type": "stream",
     "text": [
      "Hot days(temperatures >35°C): [36.8 38.7 37.2]\n",
      "Cold days (temperature < 5°C): []\n"
     ]
    }
   ],
   "source": [
    "import numpy as np\n",
    "temperatures = np.array([32.5, 34.2, 36.8, 29.3, 31.0, 38.7, 23.1, 18.5, 22.8, 37.2])\n",
    "hot_days_indices = np.where(temperatures >35)\n",
    "cold_days_incdices = np.where(temperatures <5)\n",
    "hot_days = temperatures[hot_days_indices]\n",
    "cold_days = temperatures[cold_days_incdices]\n",
    "print(\"Hot days(temperatures >35°C):\",hot_days)\n",
    "print(\"Cold days (temperature < 5°C):\",cold_days)"
   ]
  },
  {
   "cell_type": "markdown",
   "id": "39c5b5f3-b649-4724-8cd7-a307ef6ee1a2",
   "metadata": {},
   "source": [
    "2. Suppose you have a dataset containing monthly sales data for a company, and you want to split this data into quarterly reports for analysis and reporting purposes. \n",
    "\n",
    "Input: monthly_sales = np.array([120, 135, 148, 165, 180, 155, 168, 190, 205, 198, 210, 225])"
   ]
  },
  {
   "cell_type": "code",
   "execution_count": 13,
   "id": "0e57e4f5-72d6-4b1f-b7ba-8dfce46bd09a",
   "metadata": {},
   "outputs": [
    {
     "name": "stdout",
     "output_type": "stream",
     "text": [
      "Quarterly sales data: \n",
      " [[120 135 148]\n",
      " [165 180 155]\n",
      " [168 190 205]\n",
      " [198 210 225]]\n"
     ]
    }
   ],
   "source": [
    "monthly_sales = np.array([120, 135, 148, 165, 180, 155, 168, 190, 205, 198, 210, 225])\n",
    "quartely_sales = monthly_sales.reshape(4,3)\n",
    "print(\"Quarterly sales data: \\n\",quartely_sales)"
   ]
  },
  {
   "cell_type": "markdown",
   "id": "19981798-0e8a-49da-a514-7d5d44060960",
   "metadata": {},
   "source": [
    "3. Suppose you have a dataset containing customer data, and you want to split this data into two groups: one group for customers who made a purchase in the last 30 days and another group for customers who haven't made a purchase in the last 30 days. \n",
    "\n",
    "Input: customer_ids = np.array([101, 102, 103, 104, 105, 106, 107, 108, 109, 110]) \n",
    "\n",
    "last_purchase_days_ago = np.array([5, 15, 20, 25, 30, 35, 40, 45, 50, 55])\n"
   ]
  },
  {
   "cell_type": "code",
   "execution_count": 19,
   "id": "d2bc1e2d-1133-469b-891e-d8c5e444e7b0",
   "metadata": {},
   "outputs": [
    {
     "name": "stdout",
     "output_type": "stream",
     "text": [
      "Recent purchasers (last 30 days): [106 107 108 109 110]\n",
      "Non-recent purchasers: [106 107 108 109 110]\n"
     ]
    }
   ],
   "source": [
    "customer_ids = np.array([101, 102, 103, 104, 105, 106, 107, 108, 109, 110])\n",
    "last_purchase_days_ago = np.array([5, 15, 20, 25, 30, 35, 40, 45, 50, 55])\n",
    "recent_purchases = customer_ids[last_purchase_days_ago > 30]\n",
    "non_recent_purchasers = customer_ids[last_purchase_days_ago > 30]\n",
    "print(\"Recent purchasers (last 30 days):\",recent_purchases)\n",
    "print(\"Non-recent purchasers:\", non_recent_purchasers)"
   ]
  },
  {
   "cell_type": "markdown",
   "id": "e79ee61b-db49-4fd5-9872-2f67e35cf604",
   "metadata": {},
   "source": [
    "4.Suppose you have two sets of employee data—one containing information about full-time employees and another containing information about part-time employees. You want to combine this data to create a comprehensive employee dataset for HR analysis. Input: # Employee data for full-time employees full_time_employees = np.array([ [101, 'John Doe', 'Full-Time', 55000], [102, 'Jane Smith', 'Full-Time', 60000], [103, 'Mike Johnson', 'Full-Time', 52000] ])\n",
    "# Employee data for part-time employees part_time_employees = np.array([ [201, 'Alice Brown', 'Part-Time', 25000], [202, 'Bob Wilson', 'Part-Time', 28000], [203, 'Emily Davis', 'Part-Time', 22000] ])\n"
   ]
  },
  {
   "cell_type": "code",
   "execution_count": 21,
   "id": "a70b29ce-cff6-4efd-80fd-7ef837aaaa93",
   "metadata": {},
   "outputs": [
    {
     "name": "stdout",
     "output_type": "stream",
     "text": [
      "Comprehensive employee dataset:\n",
      " [['101' 'John Doe' 'Full-Time' '55000']\n",
      " ['102' 'Jane Smith' 'Full-Time' '60000']\n",
      " ['103' 'Mike Johnson' 'Full-Time' '52000']\n",
      " ['201' 'Alice Brown' 'Part-Time' '25000']\n",
      " ['202' 'Bob Wilson' 'Part-Time' '28000']\n",
      " ['203' 'Emily Davis' 'Part-Time' '22000']]\n"
     ]
    }
   ],
   "source": [
    "full_time_employees = np.array([ [101, 'John Doe', 'Full-Time', 55000], [102, 'Jane Smith', 'Full-Time', 60000], [103, 'Mike Johnson', 'Full-Time', 52000] ])\n",
    "part_time_employees = np.array([ [201, 'Alice Brown', 'Part-Time', 25000], [202, 'Bob Wilson', 'Part-Time', 28000], [203, 'Emily Davis', 'Part-Time', 22000] ])\n",
    "employee_data = np.vstack((full_time_employees, part_time_employees))\n",
    "print(\"Comprehensive employee dataset:\\n\",employee_data)"
   ]
  }
 ],
 "metadata": {
  "kernelspec": {
   "display_name": "Python 3 (ipykernel)",
   "language": "python",
   "name": "python3"
  },
  "language_info": {
   "codemirror_mode": {
    "name": "ipython",
    "version": 3
   },
   "file_extension": ".py",
   "mimetype": "text/x-python",
   "name": "python",
   "nbconvert_exporter": "python",
   "pygments_lexer": "ipython3",
   "version": "3.12.7"
  }
 },
 "nbformat": 4,
 "nbformat_minor": 5
}
