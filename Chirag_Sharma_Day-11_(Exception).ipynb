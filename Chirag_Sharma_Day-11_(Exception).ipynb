{
 "cells": [
  {
   "cell_type": "markdown",
   "id": "3cbf90c4-2503-4045-8f2a-946d24e40dc9",
   "metadata": {},
   "source": [
    "1. Write a Python program to handle a ZeroDivisionError exception when dividing a number by zero. "
   ]
  },
  {
   "cell_type": "code",
   "execution_count": 115,
   "id": "2e5b2be5-e83b-4a0b-a813-b0f14c3cc7e1",
   "metadata": {},
   "outputs": [
    {
     "name": "stdin",
     "output_type": "stream",
     "text": [
      "Enter a number:  5\n"
     ]
    },
    {
     "name": "stdout",
     "output_type": "stream",
     "text": [
      "Error: Division by zero is not allowed!\n"
     ]
    }
   ],
   "source": [
    "try:\n",
    "    num = int(input(\"Enter a number: \"))\n",
    "    result = num / 0  # Division by zero\n",
    "except ZeroDivisionError:\n",
    "    print(\"Error: Division by zero is not allowed!\")"
   ]
  },
  {
   "cell_type": "markdown",
   "id": "d83791c5-38c2-49fd-8e18-25fb3af30922",
   "metadata": {},
   "source": [
    "2. Write a Python program that prompts the user to input an integer and raises a ValueError exception if the input is not a valid integer. "
   ]
  },
  {
   "cell_type": "code",
   "execution_count": 117,
   "id": "e1e87461-d7fa-474c-a97d-e87125485857",
   "metadata": {},
   "outputs": [
    {
     "name": "stdin",
     "output_type": "stream",
     "text": [
      "Enter an integer:  6\n"
     ]
    },
    {
     "name": "stdout",
     "output_type": "stream",
     "text": [
      "You entered: 6\n"
     ]
    }
   ],
   "source": [
    "try:\n",
    "    num = int(input(\"Enter an integer: \"))  # User input should be an integer\n",
    "    print(f\"You entered: {num}\")\n",
    "except ValueError:\n",
    "    print(\"Error: Invalid input! Please enter a valid integer.\")"
   ]
  },
  {
   "cell_type": "markdown",
   "id": "648578c3-261c-4cfb-805d-03023e46a6f1",
   "metadata": {},
   "source": [
    "3. Write a Python program that opens a file and handles a FileNotFoundError exception if the file does not exist. "
   ]
  },
  {
   "cell_type": "code",
   "execution_count": 119,
   "id": "256bfe5b-f900-41e2-89cf-20a76538be5c",
   "metadata": {},
   "outputs": [
    {
     "name": "stdout",
     "output_type": "stream",
     "text": [
      "Error: The file 'example.txt' was not found!\n"
     ]
    }
   ],
   "source": [
    "try:\n",
    "    with open(\"example.txt\", \"r\") as file:  # Try opening the file\n",
    "        content = file.read()\n",
    "        print(content)\n",
    "except FileNotFoundError:\n",
    "    print(\"Error: The file 'example.txt' was not found!\")"
   ]
  },
  {
   "cell_type": "markdown",
   "id": "60841220-f2f6-4595-9b7f-906b176f8db9",
   "metadata": {},
   "source": [
    "4. Write a Python program that prompts the user to input two numbers and raises a TypeError exception if the inputs are not numerical"
   ]
  },
  {
   "cell_type": "code",
   "execution_count": 121,
   "id": "e5bcc5c7-7e68-44b8-a693-948dd4fe0b64",
   "metadata": {},
   "outputs": [
    {
     "name": "stdin",
     "output_type": "stream",
     "text": [
      "Enter the first number:  4\n",
      "Enter the second number:  3\n"
     ]
    },
    {
     "name": "stdout",
     "output_type": "stream",
     "text": [
      "Sum: 7.0\n"
     ]
    }
   ],
   "source": [
    "try:\n",
    "    num1 = float(input(\"Enter the first number: \"))\n",
    "    num2 = float(input(\"Enter the second number: \"))\n",
    "    print(f\"Sum: {num1 + num2}\")\n",
    "except ValueError:\n",
    "    print(\"Error: Invalid input! Please enter numeric values only.\")"
   ]
  }
 ],
 "metadata": {
  "kernelspec": {
   "display_name": "Python 3 (ipykernel)",
   "language": "python",
   "name": "python3"
  },
  "language_info": {
   "codemirror_mode": {
    "name": "ipython",
    "version": 3
   },
   "file_extension": ".py",
   "mimetype": "text/x-python",
   "name": "python",
   "nbconvert_exporter": "python",
   "pygments_lexer": "ipython3",
   "version": "3.12.7"
  }
 },
 "nbformat": 4,
 "nbformat_minor": 5
}
