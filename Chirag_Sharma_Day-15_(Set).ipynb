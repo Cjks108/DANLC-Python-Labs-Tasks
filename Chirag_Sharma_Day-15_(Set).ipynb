{
 "cells": [
  {
   "cell_type": "code",
   "execution_count": null,
   "id": "c5fdfe65-0641-4992-bba1-4faaa3fc8d02",
   "metadata": {},
   "outputs": [],
   "source": [
    "1. Write a Python program to Get Only unique items from two sets. \n",
    "Input: set1 = {10, 20, 30, 40, 50}\n",
    "set2 = {30, 40, 50, 60, 70}"
   ]
  },
  {
   "cell_type": "code",
   "execution_count": 1,
   "id": "2e2bc037-e411-43e5-ba81-d104d3302749",
   "metadata": {},
   "outputs": [
    {
     "name": "stdout",
     "output_type": "stream",
     "text": [
      "Unique items from both sets: {70, 40, 10, 50, 20, 60, 30}\n"
     ]
    }
   ],
   "source": [
    "set1 = {10, 20, 30, 40, 50}\n",
    "set2 = {30, 40, 50, 60, 70}\n",
    "\n",
    "unique_items = set1.union(set2)  # OR unique_items = set1 | set2\n",
    "print(\"Unique items from both sets:\", unique_items)"
   ]
  },
  {
   "cell_type": "code",
   "execution_count": null,
   "id": "918b60af-0e14-4ce6-a2fe-bc7b620bc43c",
   "metadata": {},
   "outputs": [],
   "source": [
    "2. Write a Python program to Return a set of elements present in Set A or B, but not both. \n",
    "Input: set1 = {10, 20, 30, 40, 50} \n",
    "set2 = {30, 40, 50, 60, 70}"
   ]
  },
  {
   "cell_type": "code",
   "execution_count": 3,
   "id": "45905a47-022c-4162-9dc5-d7fdd0fac6b8",
   "metadata": {},
   "outputs": [
    {
     "name": "stdout",
     "output_type": "stream",
     "text": [
      "Elements present in either set but not both: {20, 70, 10, 60}\n"
     ]
    }
   ],
   "source": [
    "set1 = {10, 20, 30, 40, 50}\n",
    "set2 = {30, 40, 50, 60, 70}\n",
    "\n",
    "symmetric_diff = set1.symmetric_difference(set2)  # OR symmetric_diff = set1 ^ set2\n",
    "print(\"Elements present in either set but not both:\", symmetric_diff)\n"
   ]
  },
  {
   "cell_type": "code",
   "execution_count": null,
   "id": "6bbef7ac-574c-475a-816c-6a5864e13e22",
   "metadata": {},
   "outputs": [],
   "source": [
    "3. Write a Python program to Check if two sets have any elements in common. If yes, display the common elements. \n",
    "Input: set1 = {10, 20, 30, 40, 50} \n",
    "set2 = {60, 70, 80, 90, 10}"
   ]
  },
  {
   "cell_type": "code",
   "execution_count": 5,
   "id": "dfab1899-1b2a-4bc5-a462-4f0f12209cf5",
   "metadata": {},
   "outputs": [
    {
     "name": "stdout",
     "output_type": "stream",
     "text": [
      "Common elements: {10}\n"
     ]
    }
   ],
   "source": [
    "set1 = {10, 20, 30, 40, 50}\n",
    "set2 = {60, 70, 80, 90, 10}\n",
    "\n",
    "common_elements = set1.intersection(set2)  # OR common_elements = set1 & set2\n",
    "\n",
    "if common_elements:\n",
    "    print(\"Common elements:\", common_elements)\n",
    "else:\n",
    "    print(\"No common elements found\")"
   ]
  },
  {
   "cell_type": "code",
   "execution_count": null,
   "id": "cae16980-851c-4674-b1a6-a93003031114",
   "metadata": {},
   "outputs": [],
   "source": [
    "4. Write a Python program to Remove items from set1 that are not common to both set1 and set2. \n",
    "Input: set1 = {10, 20, 30, 40, 50} \n",
    "set2 = {30, 40, 50, 60, 70}"
   ]
  },
  {
   "cell_type": "code",
   "execution_count": 7,
   "id": "c58d2c7b-6abd-4ebe-b33a-b8fab237071f",
   "metadata": {},
   "outputs": [
    {
     "name": "stdout",
     "output_type": "stream",
     "text": [
      "Updated set1 after removing non-common elements: {40, 50, 30}\n"
     ]
    }
   ],
   "source": [
    "set1 = {10, 20, 30, 40, 50}\n",
    "set2 = {30, 40, 50, 60, 70}\n",
    "\n",
    "set1.intersection_update(set2)  # Keeps only common elements in set1\n",
    "print(\"Updated set1 after removing non-common elements:\", set1)\n"
   ]
  }
 ],
 "metadata": {
  "kernelspec": {
   "display_name": "Python 3 (ipykernel)",
   "language": "python",
   "name": "python3"
  },
  "language_info": {
   "codemirror_mode": {
    "name": "ipython",
    "version": 3
   },
   "file_extension": ".py",
   "mimetype": "text/x-python",
   "name": "python",
   "nbconvert_exporter": "python",
   "pygments_lexer": "ipython3",
   "version": "3.12.7"
  }
 },
 "nbformat": 4,
 "nbformat_minor": 5
}
