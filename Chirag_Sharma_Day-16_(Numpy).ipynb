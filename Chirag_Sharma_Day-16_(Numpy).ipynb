{
 "cells": [
  {
   "cell_type": "markdown",
   "id": "48b1568a-9557-4fec-9475-a53a5b5b6768",
   "metadata": {},
   "source": [
    "1. Create a 1D array with elements from 1 to 10."
   ]
  },
  {
   "cell_type": "code",
   "execution_count": 1,
   "id": "b0911104-e5b8-4f55-92db-d38aaa6c37c5",
   "metadata": {},
   "outputs": [
    {
     "name": "stdout",
     "output_type": "stream",
     "text": [
      "1D array: [ 1  2  3  4  5  6  7  8  9 10]\n"
     ]
    }
   ],
   "source": [
    "import numpy as np \n",
    "arr1 = np.arange(1,11)\n",
    "print(\"1D array:\",arr1)"
   ]
  },
  {
   "cell_type": "markdown",
   "id": "62b617f0-acd8-4798-819e-aecffdbc5ed0",
   "metadata": {},
   "source": [
    "2. Create a 2D array of size 3x3 filled with zeros."
   ]
  },
  {
   "cell_type": "code",
   "execution_count": 3,
   "id": "fce52cae-0973-4522-87c2-04c8f47c703b",
   "metadata": {},
   "outputs": [
    {
     "name": "stdout",
     "output_type": "stream",
     "text": [
      "2D array of zeros:\n",
      " [[0. 0. 0. 0.]\n",
      " [0. 0. 0. 0.]\n",
      " [0. 0. 0. 0.]\n",
      " [0. 0. 0. 0.]]\n"
     ]
    }
   ],
   "source": [
    "arr2 = np.zeros((4,4))\n",
    "print(\"2D array of zeros:\\n\",arr2)"
   ]
  },
  {
   "cell_type": "markdown",
   "id": "f576ad22-92d9-4dfe-a2c8-140eb2c62e5b",
   "metadata": {},
   "source": [
    "3. Find the maximum and minimum values in an array."
   ]
  },
  {
   "cell_type": "code",
   "execution_count": 9,
   "id": "dc4311e3-604c-476c-838c-890e9252d49b",
   "metadata": {},
   "outputs": [
    {
     "name": "stdout",
     "output_type": "stream",
     "text": [
      "array ::  [ 1  2  3  4  5  6  7  8  9 10]\n",
      " maximum values :: 10\n",
      " minimum values :: 1\n"
     ]
    }
   ],
   "source": [
    "max_value = np.max(arr1)\n",
    "min_value = np.min(arr1)\n",
    "\n",
    "print(\"array :: \",arr1)\n",
    "print(\" maximum values ::\",max_value)\n",
    "print(\" minimum values ::\",min_value)"
   ]
  },
  {
   "cell_type": "markdown",
   "id": "d3390de3-32d8-4634-9307-631de21cdff0",
   "metadata": {},
   "source": [
    "4. Reshape a 1D array into a 2D array of shape 2x5."
   ]
  },
  {
   "cell_type": "code",
   "execution_count": 11,
   "id": "0c214940-0cb3-461b-9958-8b811be6bb2e",
   "metadata": {},
   "outputs": [
    {
     "name": "stdout",
     "output_type": "stream",
     "text": [
      "original 1d array: [ 1  2  3  4  5  6  7  8  9 10]\n",
      "reshaped 2d array:\n",
      " [[ 1  2  3  4  5]\n",
      " [ 6  7  8  9 10]]\n"
     ]
    }
   ],
   "source": [
    "array_reshaped = arr1.reshape(2,5)\n",
    "print(\"original 1d array:\",arr1)\n",
    "print(\"reshaped 2d array:\\n\",array_reshaped)"
   ]
  },
  {
   "cell_type": "markdown",
   "id": "4e3de111-a645-45ee-b63a-270af74837b1",
   "metadata": {},
   "source": [
    "5. Generate a 1D array of 5 random integers between 10 and 50."
   ]
  },
  {
   "cell_type": "code",
   "execution_count": 13,
   "id": "3b40c721-d96d-434e-84a5-a80c436c06b4",
   "metadata": {},
   "outputs": [
    {
     "name": "stdout",
     "output_type": "stream",
     "text": [
      "random array: [22 26 38 49 38]\n"
     ]
    }
   ],
   "source": [
    "random_array = np.random.randint(10,50,5)\n",
    "print(\"random array:\", random_array)"
   ]
  },
  {
   "cell_type": "markdown",
   "id": "fedb23c6-a787-43df-8a00-45906d8a9866",
   "metadata": {},
   "source": [
    "6. Convert the below list into numpy array then display the array\n",
    "Input: my_list = [1, 2, 3, 4, 5]"
   ]
  },
  {
   "cell_type": "code",
   "execution_count": 15,
   "id": "8b0441a7-68f0-4939-859b-8dd1cdd93855",
   "metadata": {},
   "outputs": [
    {
     "name": "stdout",
     "output_type": "stream",
     "text": [
      "array from list: [1 2 3 4 5]\n"
     ]
    }
   ],
   "source": [
    "my_list = [1,2,3,4,5]\n",
    "array_from_list = np.array(my_list)\n",
    "print(\"array from list:\",array_from_list)"
   ]
  },
  {
   "cell_type": "markdown",
   "id": "4d11ce89-b623-4ab2-9b25-071e99c015e1",
   "metadata": {},
   "source": [
    "7. Convert the below list into a numpy array then display the array then display the first and last index and then multiply each element by 2 and display the result.\n",
    "Input: my_list = [1, 2, 3, 4, 5]"
   ]
  },
  {
   "cell_type": "code",
   "execution_count": 17,
   "id": "170e7c65-5c6f-4883-9730-58065502bd95",
   "metadata": {},
   "outputs": [
    {
     "name": "stdout",
     "output_type": "stream",
     "text": [
      "array from list: [1 2 3 4 5]\n",
      "first Element: 1\n",
      "last Element:  5\n",
      "array multiplied by 2: [ 2  4  6  8 10]\n"
     ]
    }
   ],
   "source": [
    "my_list = [1,2,3,4,5]\n",
    "array_from_list = np.array(my_list)\n",
    "print(\"array from list:\",array_from_list)\n",
    "first_element = array_from_list[0]\n",
    "last_element = array_from_list[-1]\n",
    "print(\"first Element:\",first_element)\n",
    "print(\"last Element: \",last_element)\n",
    "multiplied_array = array_from_list * 2\n",
    "print(\"array multiplied by 2:\",multiplied_array)"
   ]
  }
 ],
 "metadata": {
  "kernelspec": {
   "display_name": "Python 3 (ipykernel)",
   "language": "python",
   "name": "python3"
  },
  "language_info": {
   "codemirror_mode": {
    "name": "ipython",
    "version": 3
   },
   "file_extension": ".py",
   "mimetype": "text/x-python",
   "name": "python",
   "nbconvert_exporter": "python",
   "pygments_lexer": "ipython3",
   "version": "3.12.7"
  }
 },
 "nbformat": 4,
 "nbformat_minor": 5
}
