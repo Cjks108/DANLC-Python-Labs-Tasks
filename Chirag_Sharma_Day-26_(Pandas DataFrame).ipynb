{
 "cells": [
  {
   "cell_type": "markdown",
   "id": "0d8602ce-ccce-4e74-a5d7-05bcb3f9e044",
   "metadata": {},
   "source": [
    "# Lab1: Write a Pandas program to create a dataframe from a dictionary and display it. \n",
    "Sample data: \n",
    "score={'Math':[78,85,96,80,86], 'English':[84,94,89,83,86],'Hindi':[86,97,96,72,83]} \n"
   ]
  },
  {
   "cell_type": "code",
   "execution_count": 2,
   "id": "f3e87f43-9183-4013-b2f5-96840add670c",
   "metadata": {},
   "outputs": [
    {
     "name": "stdout",
     "output_type": "stream",
     "text": [
      "Student Scores DataFrame:\n",
      "   Math  English  Hindi\n",
      "0    78       84     86\n",
      "1    85       94     97\n",
      "2    96       89     96\n",
      "3    80       83     72\n",
      "4    86       86     83\n"
     ]
    }
   ],
   "source": [
    "import pandas as pd\n",
    "\n",
    "# Sample Data\n",
    "score = {\n",
    "    'Math': [78, 85, 96, 80, 86],\n",
    "    'English': [84, 94, 89, 83, 86],\n",
    "    'Hindi': [86, 97, 96, 72, 83]\n",
    "}\n",
    "\n",
    "# Creating DataFrame\n",
    "df = pd.DataFrame(score)\n",
    "\n",
    "# Display the DataFrame\n",
    "print(\"Student Scores DataFrame:\")\n",
    "print(df)\n"
   ]
  },
  {
   "cell_type": "markdown",
   "id": "7d22e569-f39c-47b3-be38-959a5da3208b",
   "metadata": {},
   "source": [
    "# Lab2: Write a Pandas program to create and display a DataFrame from a specified dictionary data which has the index labels. \n",
    "Sample Python dictionary data and list labels: \n",
    "exam_data = {'name': ['Anastasia', 'Dima', 'Katherine', 'James', 'Emily', 'Michael', 'Matthew', 'Laura', 'Kevin', 'Jonas'], 'score': [12.5, 9, 16.5, np.nan, 9, 20, 14.5, np.nan, 8, 19], 'attempts': [1, 3, 2, 3, 2, 3, 1, 1, 2, 1], 'qualify': ['yes', 'no', 'yes', 'no', 'no', 'yes', 'yes', 'no', 'no', 'yes']} \n"
   ]
  },
  {
   "cell_type": "code",
   "execution_count": 5,
   "id": "3e8289fa-6461-4165-afb2-cf7887672da1",
   "metadata": {},
   "outputs": [
    {
     "name": "stdout",
     "output_type": "stream",
     "text": [
      "\n",
      "Output:\n",
      "        name  score  attempts qualify\n",
      "0  Anastasia   12.5         1     yes\n",
      "1       Dima    9.0         3      no\n",
      "2  Katherine   16.5         2     yes\n",
      "3      James    NaN         3      no\n",
      "4      Emily    9.0         2      no\n",
      "5    Michael   20.0         3     yes\n",
      "6    Matthew   14.5         1     yes\n",
      "7      Laura    NaN         1      no\n",
      "8      Kevin    8.0         2      no\n",
      "9      Jonas   19.0         1     yes\n"
     ]
    }
   ],
   "source": [
    "import pandas as pd\n",
    "import numpy as np\n",
    "\n",
    "# Sample data\n",
    "exam_data = {\n",
    "    'name': ['Anastasia', 'Dima', 'Katherine', 'James', 'Emily',\n",
    "             'Michael', 'Matthew', 'Laura', 'Kevin', 'Jonas'],\n",
    "    'score': [12.5, 9, 16.5, np.nan, 9, 20, 14.5, np.nan, 8, 19],\n",
    "    'attempts': [1, 3, 2, 3, 2, 3, 1, 1, 2, 1],\n",
    "    'qualify': ['yes', 'no', 'yes', 'no', 'no', 'yes', 'yes', 'no', 'no', 'yes']\n",
    "}\n",
    "\n",
    "# Create DataFrame with index labels\n",
    "df2 = pd.DataFrame(exam_data)\n",
    "\n",
    "# Display the DataFrame\n",
    "print(\"\\nOutput:\")\n",
    "print(df2)\n"
   ]
  },
  {
   "cell_type": "markdown",
   "id": "34404d80-4398-4b7d-9197-361aec2cace9",
   "metadata": {},
   "source": [
    "# Lab3: Write a Pandas program to get the first 3 rows of a given DataFrame. \n",
    "Sample DataFrame: \n",
    "exam_data = {'name': ['Anastasia', 'Dima', 'Katherine', 'James', 'Emily', 'Michael', 'Matthew', 'Laura', 'Kevin', 'Jonas'], 'score': [12.5, 9, 16.5, np.nan, 9, 20, 14.5, np.nan, 8, 19], 'attempts': [1, 3, 2, 3, 2, 3, 1, 1, 2, 1], 'qualify': ['yes', 'no', 'yes', 'no', 'no', 'yes', 'yes', 'no', 'no', 'yes']} \n"
   ]
  },
  {
   "cell_type": "code",
   "execution_count": 8,
   "id": "83674d26-5151-4ef9-ae62-f555030faac1",
   "metadata": {},
   "outputs": [
    {
     "name": "stdout",
     "output_type": "stream",
     "text": [
      "\n",
      "Output:\n",
      "        name  score  attempts qualify\n",
      "0  Anastasia   12.5         1     yes\n",
      "1       Dima    9.0         3      no\n",
      "2  Katherine   16.5         2     yes\n"
     ]
    }
   ],
   "source": [
    "import pandas as pd\n",
    "import numpy as np\n",
    "\n",
    "# Sample data\n",
    "exam_data = {\n",
    "    'name': ['Anastasia', 'Dima', 'Katherine', 'James', 'Emily',\n",
    "             'Michael', 'Matthew', 'Laura', 'Kevin', 'Jonas'],\n",
    "    'score': [12.5, 9, 16.5, np.nan, 9, 20, 14.5, np.nan, 8, 19],\n",
    "    'attempts': [1, 3, 2, 3, 2, 3, 1, 1, 2, 1],\n",
    "    'qualify': ['yes', 'no', 'yes', 'no', 'no', 'yes', 'yes', 'no', 'no', 'yes']\n",
    "}\n",
    "\n",
    "# Create DataFrame\n",
    "df3 = pd.DataFrame(exam_data)\n",
    "\n",
    "# Get the first 3 rows\n",
    "print(\"\\nOutput:\")\n",
    "print(df3.head(3))\n"
   ]
  },
  {
   "cell_type": "markdown",
   "id": "51fc3ef8-3e8a-4aa1-bc0a-c0aef96c0bcf",
   "metadata": {},
   "source": [
    "# Lab4: Write a Pandas program to select the 'name' and 'score' columns from the following DataFrame. \n",
    "Sample Python dictionary data and list labels: \n",
    "exam_data = {'name': ['Anastasia', 'Dima', 'Katherine', 'James', 'Emily', 'Michael', 'Matthew', 'Laura', 'Kevin', 'Jonas'], 'score': [12.5, 9, 16.5, np.nan, 9, 20, 14.5, np.nan, 8, 19], 'attempts': [1, 3, 2, 3, 2, 3, 1, 1, 2, 1], 'qualify': ['yes', 'no', 'yes', 'no', 'no', 'yes', 'yes', 'no', 'no', 'yes']} \n"
   ]
  },
  {
   "cell_type": "code",
   "execution_count": 11,
   "id": "631277c5-98c1-4e90-9348-332a2c246e1f",
   "metadata": {},
   "outputs": [
    {
     "name": "stdout",
     "output_type": "stream",
     "text": [
      "\n",
      "Output:\n",
      "        name  score\n",
      "0  Anastasia   12.5\n",
      "1       Dima    9.0\n",
      "2  Katherine   16.5\n",
      "3      James    NaN\n",
      "4      Emily    9.0\n",
      "5    Michael   20.0\n",
      "6    Matthew   14.5\n",
      "7      Laura    NaN\n",
      "8      Kevin    8.0\n",
      "9      Jonas   19.0\n"
     ]
    }
   ],
   "source": [
    "import pandas as pd\n",
    "import numpy as np\n",
    "\n",
    "# Sample data\n",
    "exam_data = {\n",
    "    'name': ['Anastasia', 'Dima', 'Katherine', 'James', 'Emily',\n",
    "             'Michael', 'Matthew', 'Laura', 'Kevin', 'Jonas'],\n",
    "    'score': [12.5, 9, 16.5, np.nan, 9, 20, 14.5, np.nan, 8, 19],\n",
    "    'attempts': [1, 3, 2, 3, 2, 3, 1, 1, 2, 1],\n",
    "    'qualify': ['yes', 'no', 'yes', 'no', 'no', 'yes', 'yes', 'no', 'no', 'yes']\n",
    "}\n",
    "\n",
    "# Create DataFrame\n",
    "df4 = pd.DataFrame(exam_data)\n",
    "\n",
    "# Select 'name' and 'score' columns\n",
    "print(\"\\nOutput:\")\n",
    "print(df4[['name', 'score']])\n"
   ]
  }
 ],
 "metadata": {
  "kernelspec": {
   "display_name": "Python 3 (ipykernel)",
   "language": "python",
   "name": "python3"
  },
  "language_info": {
   "codemirror_mode": {
    "name": "ipython",
    "version": 3
   },
   "file_extension": ".py",
   "mimetype": "text/x-python",
   "name": "python",
   "nbconvert_exporter": "python",
   "pygments_lexer": "ipython3",
   "version": "3.12.7"
  }
 },
 "nbformat": 4,
 "nbformat_minor": 5
}
