{
 "cells": [
  {
   "cell_type": "markdown",
   "id": "ded633f4-af81-4b2b-9d06-c9cba9ecc481",
   "metadata": {},
   "source": [
    "1. Reverse a Number Using a While Loop"
   ]
  },
  {
   "cell_type": "code",
   "execution_count": 71,
   "id": "0efcccee-50c9-41e3-9982-6e347d3f0813",
   "metadata": {},
   "outputs": [
    {
     "name": "stdin",
     "output_type": "stream",
     "text": [
      "Enter a number:  1234\n"
     ]
    },
    {
     "name": "stdout",
     "output_type": "stream",
     "text": [
      "Reversed Number: 4321\n"
     ]
    }
   ],
   "source": [
    "num = int(input(\"Enter a number: \"))\n",
    "rev = 0\n",
    "\n",
    "while num > 0:\n",
    "    digit = num % 10\n",
    "    rev = rev * 10 + digit\n",
    "    num //= 10\n",
    "\n",
    "print(\"Reversed Number:\", rev)"
   ]
  },
  {
   "cell_type": "markdown",
   "id": "6bfd3b53-5e4b-4b6d-95ff-c8543cbcbb8f",
   "metadata": {},
   "source": [
    "2. Check Whether a Number is Palindrome"
   ]
  },
  {
   "cell_type": "code",
   "execution_count": 69,
   "id": "191c5ad6-8270-4c36-ab49-24e600fd06b1",
   "metadata": {},
   "outputs": [
    {
     "name": "stdin",
     "output_type": "stream",
     "text": [
      "Enter a number:  12\n"
     ]
    },
    {
     "name": "stdout",
     "output_type": "stream",
     "text": [
      "Not a Palindrome\n"
     ]
    }
   ],
   "source": [
    "num = int(input(\"Enter a number: \"))\n",
    "temp = num\n",
    "rev = 0\n",
    "\n",
    "while temp > 0:\n",
    "    digit = temp % 10\n",
    "    rev = rev * 10 + digit\n",
    "    temp //= 10\n",
    "\n",
    "if num == rev:\n",
    "    print(\"Palindrome Number\")\n",
    "else:\n",
    "    print(\"Not a Palindrome\")"
   ]
  },
  {
   "cell_type": "markdown",
   "id": "6f1aca95-20b7-40a8-a2d6-503eed2820c8",
   "metadata": {},
   "source": [
    "3. Finding Factorial Using a While Loop"
   ]
  },
  {
   "cell_type": "code",
   "execution_count": 73,
   "id": "a9c8fdbd-028d-45b3-8a36-6f1064e9d628",
   "metadata": {},
   "outputs": [
    {
     "name": "stdin",
     "output_type": "stream",
     "text": [
      "Enter a number:  13\n"
     ]
    },
    {
     "name": "stdout",
     "output_type": "stream",
     "text": [
      "Factorial: 6227020800\n"
     ]
    }
   ],
   "source": [
    "num = int(input(\"Enter a number: \"))\n",
    "fact = 1\n",
    "i = 1\n",
    "\n",
    "while i <= num:\n",
    "    fact *= i\n",
    "    i += 1\n",
    "\n",
    "print(\"Factorial:\", fact)"
   ]
  },
  {
   "cell_type": "markdown",
   "id": "edc03ad4-5159-4074-af47-13ce0e87c227",
   "metadata": {},
   "source": [
    "4. Accept Numbers Until User Enters 0, Then Display Sum"
   ]
  },
  {
   "cell_type": "code",
   "execution_count": 75,
   "id": "8e8bf7ed-6489-4c6d-956f-1ed33fcf94ea",
   "metadata": {},
   "outputs": [
    {
     "name": "stdin",
     "output_type": "stream",
     "text": [
      "Enter a number (0 to stop):  12\n",
      "Enter a number (0 to stop):  123\n",
      "Enter a number (0 to stop):  0\n"
     ]
    },
    {
     "name": "stdout",
     "output_type": "stream",
     "text": [
      "Sum of all numbers: 135\n"
     ]
    }
   ],
   "source": [
    "total = 0\n",
    "\n",
    "while True:\n",
    "    num = int(input(\"Enter a number (0 to stop): \"))\n",
    "    if num == 0:\n",
    "        break\n",
    "    total += num\n",
    "\n",
    "print(\"Sum of all numbers:\", total)"
   ]
  },
  {
   "cell_type": "markdown",
   "id": "981c4e43-4086-4d85-9bb5-625b446bbb75",
   "metadata": {},
   "source": [
    "5. Check if a Number is Armstrong"
   ]
  },
  {
   "cell_type": "code",
   "execution_count": 77,
   "id": "3b930ac4-699d-425d-95e2-f88962fb62aa",
   "metadata": {},
   "outputs": [
    {
     "name": "stdin",
     "output_type": "stream",
     "text": [
      "Enter a number:  1\n"
     ]
    },
    {
     "name": "stdout",
     "output_type": "stream",
     "text": [
      "Armstrong Number\n"
     ]
    }
   ],
   "source": [
    "num = int(input(\"Enter a number: \"))\n",
    "sum_of_digits = 0\n",
    "temp = num\n",
    "order = len(str(num))\n",
    "\n",
    "while temp > 0:\n",
    "    digit = temp % 10\n",
    "    sum_of_digits += digit ** order\n",
    "    temp //= 10\n",
    "\n",
    "if sum_of_digits == num:\n",
    "    print(\"Armstrong Number\")\n",
    "else:\n",
    "    print(\"Not an Armstrong Number\")"
   ]
  }
 ],
 "metadata": {
  "kernelspec": {
   "display_name": "Python 3 (ipykernel)",
   "language": "python",
   "name": "python3"
  },
  "language_info": {
   "codemirror_mode": {
    "name": "ipython",
    "version": 3
   },
   "file_extension": ".py",
   "mimetype": "text/x-python",
   "name": "python",
   "nbconvert_exporter": "python",
   "pygments_lexer": "ipython3",
   "version": "3.12.7"
  }
 },
 "nbformat": 4,
 "nbformat_minor": 5
}
