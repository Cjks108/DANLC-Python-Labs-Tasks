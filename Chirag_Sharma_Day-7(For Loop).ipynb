{
 "cells": [
  {
   "cell_type": "code",
   "execution_count": null,
   "id": "8783e5b7-d927-4b5b-a2fb-e45a6da9779c",
   "metadata": {},
   "outputs": [],
   "source": [
    "1.\tPrint the first 10 natural numbers using for loop."
   ]
  },
  {
   "cell_type": "code",
   "execution_count": 79,
   "id": "fa49f9ec-9a49-4d83-add7-e14feca38106",
   "metadata": {},
   "outputs": [
    {
     "name": "stdout",
     "output_type": "stream",
     "text": [
      "1 2 3 4 5 6 7 8 9 10 "
     ]
    }
   ],
   "source": [
    "for i in range(1, 11):\n",
    "    print(i, end=\" \")"
   ]
  },
  {
   "cell_type": "code",
   "execution_count": null,
   "id": "1d32b7d2-a6fe-4a4c-b391-c01b8c8ba10d",
   "metadata": {},
   "outputs": [],
   "source": [
    "2.\tPython program to check if the given string is a palindrome "
   ]
  },
  {
   "cell_type": "code",
   "execution_count": 81,
   "id": "5a1d1803-222e-4e43-828a-516611afbd5f",
   "metadata": {},
   "outputs": [
    {
     "name": "stdin",
     "output_type": "stream",
     "text": [
      "Enter a string:  12\n"
     ]
    },
    {
     "name": "stdout",
     "output_type": "stream",
     "text": [
      "12 is not a palindrome\n"
     ]
    }
   ],
   "source": [
    "def is_palindrome(s):\n",
    "    return s == s[::-1]\n",
    "\n",
    "string = input(\"Enter a string: \")\n",
    "if is_palindrome(string):\n",
    "    print(f\"{string} is a palindrome\")\n",
    "else:\n",
    "    print(f\"{string} is not a palindrome\")"
   ]
  },
  {
   "cell_type": "code",
   "execution_count": null,
   "id": "2630d635-18b6-438b-903a-1e38e7a76514",
   "metadata": {},
   "outputs": [],
   "source": [
    "3.\tPython program to check if a given number is an Armstrong number "
   ]
  },
  {
   "cell_type": "code",
   "execution_count": 83,
   "id": "cdde955a-5fb0-4014-b629-fe326b20b533",
   "metadata": {},
   "outputs": [
    {
     "name": "stdin",
     "output_type": "stream",
     "text": [
      "Enter a number:  14\n"
     ]
    },
    {
     "name": "stdout",
     "output_type": "stream",
     "text": [
      "14 is not an Armstrong number\n"
     ]
    }
   ],
   "source": [
    "num = int(input(\"Enter a number: \"))\n",
    "sum_digits = sum(int(digit) ** len(str(num)) for digit in str(num))\n",
    "\n",
    "if num == sum_digits:\n",
    "    print(f\"{num} is an Armstrong number\")\n",
    "else:\n",
    "    print(f\"{num} is not an Armstrong number\")"
   ]
  },
  {
   "cell_type": "code",
   "execution_count": null,
   "id": "55a53910-8e11-4aea-a34a-00ca2db56aa3",
   "metadata": {},
   "outputs": [],
   "source": [
    "4.\tPython program to get the Fibonacci series between 0 to 50 "
   ]
  },
  {
   "cell_type": "code",
   "execution_count": 85,
   "id": "3c0d55e2-6247-4a47-98e7-2a472f5b08d1",
   "metadata": {},
   "outputs": [
    {
     "name": "stdout",
     "output_type": "stream",
     "text": [
      "0 1 1 2 3 5 8 13 21 34 "
     ]
    }
   ],
   "source": [
    "a, b = 0, 1\n",
    "while a <= 50:\n",
    "    print(a, end=\" \")\n",
    "    a, b = b, a + b"
   ]
  },
  {
   "cell_type": "code",
   "execution_count": null,
   "id": "a422a198-283e-4c64-9d7c-2fcb0b1a8cb8",
   "metadata": {},
   "outputs": [],
   "source": [
    "5.\tPython program to check the validity of password input by users"
   ]
  },
  {
   "cell_type": "code",
   "execution_count": 87,
   "id": "2e475b18-fb7b-4cbc-bb08-65fe5c1d6112",
   "metadata": {},
   "outputs": [
    {
     "name": "stdin",
     "output_type": "stream",
     "text": [
      "Enter password:  12\n"
     ]
    },
    {
     "name": "stdout",
     "output_type": "stream",
     "text": [
      "Invalid password\n"
     ]
    }
   ],
   "source": [
    "import re\n",
    "\n",
    "def is_valid_password(password):\n",
    "    if (len(password) >= 8 and\n",
    "        re.search(r'[A-Z]', password) and\n",
    "        re.search(r'[a-z]', password) and\n",
    "        re.search(r'\\d', password) and\n",
    "        re.search(r'[@$!%*?&]', password)):\n",
    "        return \"Valid password\"\n",
    "    else:\n",
    "        return \"Invalid password\"\n",
    "\n",
    "password = input(\"Enter password: \")\n",
    "print(is_valid_password(password))"
   ]
  }
 ],
 "metadata": {
  "kernelspec": {
   "display_name": "Python 3 (ipykernel)",
   "language": "python",
   "name": "python3"
  },
  "language_info": {
   "codemirror_mode": {
    "name": "ipython",
    "version": 3
   },
   "file_extension": ".py",
   "mimetype": "text/x-python",
   "name": "python",
   "nbconvert_exporter": "python",
   "pygments_lexer": "ipython3",
   "version": "3.12.7"
  }
 },
 "nbformat": 4,
 "nbformat_minor": 5
}
