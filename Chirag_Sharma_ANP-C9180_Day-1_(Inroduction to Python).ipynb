{
 "cells": [
  {
   "cell_type": "markdown",
   "id": "48805468-0b74-4907-b29e-66b22deeb52f",
   "metadata": {},
   "source": [
    "Q.1 print helloworld\n",
    "\n",
    "Q.2 describe local variable and global variable code\n",
    "\n",
    "Q.3 Write a code that describe Indentation error\n",
    "\n",
    "Q.4 write a code that describe local and global variable with same name\n",
    "\n",
    "Q.5 Write a code for string, int and float input."
   ]
  },
  {
   "cell_type": "code",
   "execution_count": 2,
   "id": "46248db2-83a1-41a9-9509-86c22cdc62d3",
   "metadata": {},
   "outputs": [
    {
     "name": "stdout",
     "output_type": "stream",
     "text": [
      "hello World\n"
     ]
    }
   ],
   "source": [
    "print(\"hello World\")"
   ]
  },
  {
   "cell_type": "code",
   "execution_count": 4,
   "id": "8cdaf5f8-c3df-4119-beb6-f5ed558eb179",
   "metadata": {},
   "outputs": [
    {
     "name": "stdout",
     "output_type": "stream",
     "text": [
      "global x: 10\n",
      "Local y: 5\n"
     ]
    }
   ],
   "source": [
    "x=10\n",
    "def test():\n",
    "    y=5\n",
    "    print(\"global x:\",x)\n",
    "    print(\"Local y:\",y)\n",
    "test()"
   ]
  },
  {
   "cell_type": "code",
   "execution_count": 18,
   "id": "eb898403-24b3-4060-8c4a-052f2cd6164f",
   "metadata": {},
   "outputs": [
    {
     "name": "stdout",
     "output_type": "stream",
     "text": [
      "hello\n"
     ]
    }
   ],
   "source": [
    "# indentation\n",
    "def test():\n",
    "    print(\"hello\")\n",
    "test()"
   ]
  },
  {
   "cell_type": "code",
   "execution_count": 16,
   "id": "7a054466-a3a0-482f-b98c-92f4ea431e15",
   "metadata": {},
   "outputs": [
    {
     "name": "stdout",
     "output_type": "stream",
     "text": [
      "inside function: local\n",
      "outside function: global\n"
     ]
    }
   ],
   "source": [
    "x=\"global\"\n",
    "def test():\n",
    "    x=\"local\"\n",
    "    print(\"inside function:\",x)\n",
    "\n",
    "test()\n",
    "print(\"outside function:\",x)"
   ]
  },
  {
   "cell_type": "code",
   "execution_count": 24,
   "id": "bb57c333-2dda-4439-9a9f-73733687f6b1",
   "metadata": {},
   "outputs": [
    {
     "name": "stdin",
     "output_type": "stream",
     "text": [
      "enter your name: chirag\n",
      "enter your age: 24\n",
      "enter your height in meters: 175\n"
     ]
    },
    {
     "name": "stdout",
     "output_type": "stream",
     "text": [
      "name : chirag, age : 24, height: 175.0m\n"
     ]
    }
   ],
   "source": [
    "name = input(\"enter your name:\")\n",
    "age = int(input(\"enter your age:\"))\n",
    "height = float(input(\"enter your height in meters:\"))\n",
    "\n",
    "print(f\"name : {name}, age : {age}, height: {height}m\")"
   ]
  }
 ],
 "metadata": {
  "kernelspec": {
   "display_name": "Python 3 (ipykernel)",
   "language": "python",
   "name": "python3"
  },
  "language_info": {
   "codemirror_mode": {
    "name": "ipython",
    "version": 3
   },
   "file_extension": ".py",
   "mimetype": "text/x-python",
   "name": "python",
   "nbconvert_exporter": "python",
   "pygments_lexer": "ipython3",
   "version": "3.12.7"
  }
 },
 "nbformat": 4,
 "nbformat_minor": 5
}
