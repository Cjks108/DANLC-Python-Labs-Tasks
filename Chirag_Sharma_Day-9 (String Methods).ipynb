{
 "cells": [
  {
   "cell_type": "markdown",
   "id": "125407e4-4f85-42dc-80e1-4df13cca0ad7",
   "metadata": {},
   "source": [
    "\n",
    "1. Write a Python program to Count all letters, digits, and special symbols from the given string\n",
    "\n",
    " Input = “P@#yn26at^&i5ve” \n",
    "\n",
    "Output: Chars = 8 Digits = 3 Symbol = 4 "
   ]
  },
  {
   "cell_type": "code",
   "execution_count": 98,
   "id": "b2913034-cf8a-4ac9-8e3e-563d519ae0ce",
   "metadata": {},
   "outputs": [
    {
     "name": "stdout",
     "output_type": "stream",
     "text": [
      "Chars = 8 Digits = 3 Symbols = 4\n"
     ]
    }
   ],
   "source": [
    "def count_chars_digits_symbols(s):\n",
    "    chars = digits = symbols = 0\n",
    "    \n",
    "    for char in s:\n",
    "        if char.isalpha():\n",
    "            chars += 1\n",
    "        elif char.isdigit():\n",
    "            digits += 1\n",
    "        else:\n",
    "            symbols += 1\n",
    "\n",
    "    print(f\"Chars = {chars} Digits = {digits} Symbols = {symbols}\")\n",
    "\n",
    "# Input string\n",
    "input_string = \"P@#yn26at^&i5ve\"\n",
    "count_chars_digits_symbols(input_string)"
   ]
  },
  {
   "cell_type": "markdown",
   "id": "329c8c40-ada5-4aa5-97fb-549bb1136dfe",
   "metadata": {},
   "source": [
    "2. Write a Python program to remove duplicate characters of a given string.\n",
    "\n",
    " Input = “String and String Function” \n",
    "\n",
    "Output: String and Function "
   ]
  },
  {
   "cell_type": "code",
   "execution_count": 100,
   "id": "36dcb934-256a-43d4-816b-7a97b2eb2ddb",
   "metadata": {},
   "outputs": [
    {
     "name": "stdout",
     "output_type": "stream",
     "text": [
      "String and Function\n"
     ]
    }
   ],
   "source": [
    "def remove_duplicates(s):\n",
    "    words = s.split()\n",
    "    unique_words = list(dict.fromkeys(words))  # Remove duplicates while maintaining order\n",
    "    return \" \".join(unique_words)\n",
    "\n",
    "# Input string\n",
    "input_string = \"String and String Function\"\n",
    "print(remove_duplicates(input_string))"
   ]
  },
  {
   "cell_type": "markdown",
   "id": "c39da190-26ba-48ae-a53b-8248ee322d55",
   "metadata": {},
   "source": [
    "3. Write a Python program to count Uppercase, Lowercase, special character and numeric values in a given string\n",
    "\n",
    " Input = “Hell0 W0rld ! 123 * # welcome to pYtHoN” \n",
    "\n",
    "Output: UpperCase : 5 LowerCase : 18 NumberCase : 5 SpecialCase : 11"
   ]
  },
  {
   "cell_type": "code",
   "execution_count": 102,
   "id": "cb9e03bc-179e-452c-873a-8c2bae9c5b58",
   "metadata": {},
   "outputs": [
    {
     "name": "stdout",
     "output_type": "stream",
     "text": [
      "UpperCase: 5 LowerCase: 18 NumberCase: 5 SpecialCase: 3\n"
     ]
    }
   ],
   "source": [
    "def count_case_numbers_specials(s):\n",
    "    uppercase = lowercase = numbers = special = 0\n",
    "\n",
    "    for char in s:\n",
    "        if char.isupper():\n",
    "            uppercase += 1\n",
    "        elif char.islower():\n",
    "            lowercase += 1\n",
    "        elif char.isdigit():\n",
    "            numbers += 1\n",
    "        elif not char.isspace():\n",
    "            special += 1  # Exclude spaces from the count\n",
    "\n",
    "    print(f\"UpperCase: {uppercase} LowerCase: {lowercase} NumberCase: {numbers} SpecialCase: {special}\")\n",
    "\n",
    "# Input string\n",
    "input_string = \"Hell0 W0rld ! 123 * # welcome to pYtHoN\"\n",
    "count_case_numbers_specials(input_string)"
   ]
  },
  {
   "cell_type": "markdown",
   "id": "e0631e8f-a5ce-4ba5-806a-3f78bf393651",
   "metadata": {},
   "source": [
    "4. Write a Python Count vowels in a string \n",
    "\n",
    "input= “Welcome to Python Assignment” \n",
    "\n",
    "Output: Total vowels are: 8"
   ]
  },
  {
   "cell_type": "code",
   "execution_count": 104,
   "id": "216e2d33-bb74-48ad-9460-f886273fb87d",
   "metadata": {},
   "outputs": [
    {
     "name": "stdout",
     "output_type": "stream",
     "text": [
      "Total vowels are: 8\n"
     ]
    }
   ],
   "source": [
    "def count_vowels(s):\n",
    "    vowels = \"aeiouAEIOU\"\n",
    "    count = sum(1 for char in s if char in vowels)\n",
    "    print(f\"Total vowels are: {count}\")\n",
    "\n",
    "# Input string\n",
    "input_string = \"Welcome to Python Assignment\"\n",
    "count_vowels(input_string)"
   ]
  }
 ],
 "metadata": {
  "kernelspec": {
   "display_name": "Python 3 (ipykernel)",
   "language": "python",
   "name": "python3"
  },
  "language_info": {
   "codemirror_mode": {
    "name": "ipython",
    "version": 3
   },
   "file_extension": ".py",
   "mimetype": "text/x-python",
   "name": "python",
   "nbconvert_exporter": "python",
   "pygments_lexer": "ipython3",
   "version": "3.12.7"
  }
 },
 "nbformat": 4,
 "nbformat_minor": 5
}
