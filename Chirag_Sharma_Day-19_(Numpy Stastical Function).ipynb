{
 "cells": [
  {
   "cell_type": "markdown",
   "id": "3c4808a9-bd93-4194-8c8c-020d81c33777",
   "metadata": {},
   "source": [
    "1. How to find the mean of every NumPy array in the given list?\n",
    "Input:\n",
    "list = [\n",
    "np.array([3, 2, 8, 9]),\n",
    "np.array([4, 12, 34, 25, 78]),\n",
    "np.array([23, 12, 67])\n",
    "]"
   ]
  },
  {
   "cell_type": "code",
   "execution_count": 1,
   "id": "478ac30c-7465-4912-ab22-3b884f3c37db",
   "metadata": {},
   "outputs": [
    {
     "name": "stdout",
     "output_type": "stream",
     "text": [
      "[5.5, 30.6, 34.0]\n"
     ]
    }
   ],
   "source": [
    "import numpy as np\n",
    "\n",
    "arr_list = [\n",
    "    np.array([3, 2, 8, 9]),\n",
    "    np.array([4, 12, 34, 25, 78]),\n",
    "    np.array([23, 12, 67])\n",
    "]\n",
    "\n",
    "means = [np.mean(arr) for arr in arr_list]\n",
    "print(means)"
   ]
  },
  {
   "cell_type": "markdown",
   "id": "5920e2fb-8ba6-4d7f-8969-57c2d96dbb98",
   "metadata": {},
   "source": [
    "2. Compute the median of the flattened NumPy array\n",
    "Input: x_odd = np.array([1, 2, 3, 4, 5, 6, 7])"
   ]
  },
  {
   "cell_type": "code",
   "execution_count": 3,
   "id": "cad184cc-0b93-450b-a040-28bda6dfe2ea",
   "metadata": {},
   "outputs": [
    {
     "name": "stdout",
     "output_type": "stream",
     "text": [
      "4.0\n"
     ]
    }
   ],
   "source": [
    "import numpy as np\n",
    "\n",
    "x_odd = np.array([1, 2, 3, 4, 5, 6, 7])\n",
    "\n",
    "median_value = np.median(x_odd)\n",
    "print(median_value)"
   ]
  },
  {
   "cell_type": "markdown",
   "id": "1023c878-2289-49b3-847d-c8188ab49f53",
   "metadata": {},
   "source": [
    "3.Compute the standard deviation of the NumPy array\n",
    "Input: arr = [20, 2, 7, 1, 34]"
   ]
  },
  {
   "cell_type": "code",
   "execution_count": 5,
   "id": "8b533b68-8ae2-4256-8880-b38f46985add",
   "metadata": {},
   "outputs": [
    {
     "name": "stdout",
     "output_type": "stream",
     "text": [
      "12.576167937809991\n"
     ]
    }
   ],
   "source": [
    "import numpy as np\n",
    "\n",
    "arr = np.array([20, 2, 7, 1, 34])\n",
    "\n",
    "std_dev = np.std(arr)\n",
    "print(std_dev)"
   ]
  }
 ],
 "metadata": {
  "kernelspec": {
   "display_name": "Python 3 (ipykernel)",
   "language": "python",
   "name": "python3"
  },
  "language_info": {
   "codemirror_mode": {
    "name": "ipython",
    "version": 3
   },
   "file_extension": ".py",
   "mimetype": "text/x-python",
   "name": "python",
   "nbconvert_exporter": "python",
   "pygments_lexer": "ipython3",
   "version": "3.12.7"
  }
 },
 "nbformat": 4,
 "nbformat_minor": 5
}
