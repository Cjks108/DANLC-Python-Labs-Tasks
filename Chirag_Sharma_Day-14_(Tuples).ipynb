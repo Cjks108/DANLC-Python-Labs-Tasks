{
 "cells": [
  {
   "cell_type": "markdown",
   "id": "30ac5fe9-77ef-4cb0-bf2f-1d88ee83a16a",
   "metadata": {},
   "source": [
    "1. Write a Python program to find the number of times 4 appears in the tuple. \n",
    "Input: tuplex = (2, 4, 5, 6, 2, 3, 4, 4, 7 )"
   ]
  },
  {
   "cell_type": "code",
   "execution_count": 143,
   "id": "ef49bf59-91f5-43ec-96cb-c0fa8c16b2ec",
   "metadata": {},
   "outputs": [
    {
     "name": "stdout",
     "output_type": "stream",
     "text": [
      "Number of times 4 appears: 3\n"
     ]
    }
   ],
   "source": [
    "tuplex = (2, 4, 5, 6, 2, 3, 4, 4, 7)\n",
    "\n",
    "count_4 = tuplex.count(4)\n",
    "print(\"Number of times 4 appears:\", count_4)"
   ]
  },
  {
   "cell_type": "markdown",
   "id": "786e0655-769e-4e14-97ed-36d73274dc82",
   "metadata": {},
   "source": [
    "2. Write a Python program to convert a list to a tuple. \n",
    "Input: listx = [5, 10, 7, 4, 15, 3]"
   ]
  },
  {
   "cell_type": "code",
   "execution_count": 145,
   "id": "832789f2-80d2-42a6-b809-d233d8dbba7a",
   "metadata": {},
   "outputs": [
    {
     "name": "stdout",
     "output_type": "stream",
     "text": [
      "Converted Tuple: (5, 10, 7, 4, 15, 3)\n"
     ]
    }
   ],
   "source": [
    "listx = [5, 10, 7, 4, 15, 3]\n",
    "\n",
    "tuplex = tuple(listx)\n",
    "print(\"Converted Tuple:\", tuplex)"
   ]
  },
  {
   "cell_type": "markdown",
   "id": "168d3e07-233b-4159-9641-4e534f72714c",
   "metadata": {},
   "source": [
    "3. Write a Python program to calculate the sum of the numbers in a given tuple. \n",
    "Input: tuples_list = [(1, 2), (3, 4), (5, 6)]"
   ]
  },
  {
   "cell_type": "code",
   "execution_count": 147,
   "id": "631c9ec9-9d80-49be-933f-c6889bf3b1b5",
   "metadata": {},
   "outputs": [
    {
     "name": "stdout",
     "output_type": "stream",
     "text": [
      "Sum of all numbers in the tuple list: 21\n"
     ]
    }
   ],
   "source": [
    "tuples_list = [(1, 2), (3, 4), (5, 6)]\n",
    "\n",
    "sum_total = sum(sum(tup) for tup in tuples_list)\n",
    "print(\"Sum of all numbers in the tuple list:\", sum_total)"
   ]
  },
  {
   "cell_type": "markdown",
   "id": "155cc9ac-9236-45aa-b434-4aec76a454af",
   "metadata": {},
   "source": [
    "4.Write a python program and iterate the given tuples \n",
    "Input: employee1 = (\"John Doe\", 101, \"Human Resources\", 60000)\n",
    "employee2 = (\"Alice Smith\", 102, \"Marketing\", 55000) \n",
    "employee3 = (\"Bob Johnson\", 103, \"Engineering\", 75000)"
   ]
  },
  {
   "cell_type": "code",
   "execution_count": 149,
   "id": "2a137e40-ceff-4185-9b0a-58d9b6798504",
   "metadata": {},
   "outputs": [
    {
     "name": "stdout",
     "output_type": "stream",
     "text": [
      "Name: John Doe, ID: 101, Department: Human Resources, Salary: 60000\n",
      "Name: Alice Smith, ID: 102, Department: Marketing, Salary: 55000\n",
      "Name: Bob Johnson, ID: 103, Department: Engineering, Salary: 75000\n"
     ]
    }
   ],
   "source": [
    "employee1 = (\"John Doe\", 101, \"Human Resources\", 60000)\n",
    "employee2 = (\"Alice Smith\", 102, \"Marketing\", 55000)\n",
    "employee3 = (\"Bob Johnson\", 103, \"Engineering\", 75000)\n",
    "\n",
    "employees = [employee1, employee2, employee3]\n",
    "\n",
    "for emp in employees:\n",
    "    print(f\"Name: {emp[0]}, ID: {emp[1]}, Department: {emp[2]}, Salary: {emp[3]}\")"
   ]
  }
 ],
 "metadata": {
  "kernelspec": {
   "display_name": "Python 3 (ipykernel)",
   "language": "python",
   "name": "python3"
  },
  "language_info": {
   "codemirror_mode": {
    "name": "ipython",
    "version": 3
   },
   "file_extension": ".py",
   "mimetype": "text/x-python",
   "name": "python",
   "nbconvert_exporter": "python",
   "pygments_lexer": "ipython3",
   "version": "3.12.7"
  }
 },
 "nbformat": 4,
 "nbformat_minor": 5
}
