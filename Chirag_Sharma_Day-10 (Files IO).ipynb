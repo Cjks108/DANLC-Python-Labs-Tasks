{
 "cells": [
  {
   "cell_type": "markdown",
   "id": "979a086c-6070-4a63-acc8-123083f80163",
   "metadata": {},
   "source": [
    "1. Write a function in python to read the content from a text file \"ABC.txt\" line by line and display the same on screen."
   ]
  },
  {
   "cell_type": "code",
   "execution_count": 107,
   "id": "d8b627aa-fb08-4341-bea9-85dde2e2a747",
   "metadata": {},
   "outputs": [
    {
     "name": "stdout",
     "output_type": "stream",
     "text": [
      "welcome to the world of python\n"
     ]
    }
   ],
   "source": [
    "def read_file():\n",
    "    try:\n",
    "        with open(\"ABC.txt\", \"r\") as file:\n",
    "            for line in file:\n",
    "                print(line.strip())  # Strip removes extra newline characters\n",
    "    except FileNotFoundError:\n",
    "        print(\"File 'ABC.txt' not found!\")\n",
    "\n",
    "# Call the function\n",
    "read_file()"
   ]
  },
  {
   "cell_type": "markdown",
   "id": "3a704386-903d-4ed2-9242-a91536c64c32",
   "metadata": {},
   "source": [
    "2. Write a function in Python to count and display the total number of words in a text file “ABC.txt”"
   ]
  },
  {
   "cell_type": "code",
   "execution_count": 109,
   "id": "b767b3d9-7ab6-4d57-9a47-347103b08abe",
   "metadata": {},
   "outputs": [
    {
     "name": "stdout",
     "output_type": "stream",
     "text": [
      "Total number of words: 6\n"
     ]
    }
   ],
   "source": [
    "def count_words():\n",
    "    try:\n",
    "        with open(\"ABC.txt\", \"r\") as file:\n",
    "            text = file.read()\n",
    "            words = text.split()\n",
    "            print(f\"Total number of words: {len(words)}\")\n",
    "    except FileNotFoundError:\n",
    "        print(\"File 'ABC.txt' not found!\")\n",
    "\n",
    "# Call the function\n",
    "count_words()"
   ]
  },
  {
   "cell_type": "markdown",
   "id": "7371242c-a9e2-4201-ae8e-7536d50ecc5f",
   "metadata": {},
   "source": [
    " 3. Write a function in Python to count uppercase character in a text file “ABC.txt”"
   ]
  },
  {
   "cell_type": "code",
   "execution_count": 111,
   "id": "2f17cd4d-0307-4f30-b3f4-4d633bed41b4",
   "metadata": {},
   "outputs": [
    {
     "name": "stdout",
     "output_type": "stream",
     "text": [
      "Total uppercase characters: 0\n"
     ]
    }
   ],
   "source": [
    "def count_uppercase():\n",
    "    try:\n",
    "        with open(\"ABC.txt\", \"r\") as file:\n",
    "            text = file.read()\n",
    "            uppercase_count = sum(1 for char in text if char.isupper())\n",
    "            print(f\"Total uppercase characters: {uppercase_count}\")\n",
    "    except FileNotFoundError:\n",
    "        print(\"File 'ABC.txt' not found!\")\n",
    "\n",
    "# Call the function\n",
    "count_uppercase()"
   ]
  },
  {
   "cell_type": "code",
   "execution_count": null,
   "id": "95f1ee2b-aa30-4afe-a6b3-7faba6ae9578",
   "metadata": {},
   "outputs": [],
   "source": [
    " 4. Write a function display_words() in python to read lines from a text file \"story.txt\", and display those words, which are less than 4 characters."
   ]
  },
  {
   "cell_type": "code",
   "execution_count": 113,
   "id": "9956ff27-a2b6-460e-a226-871545504321",
   "metadata": {},
   "outputs": [
    {
     "name": "stdout",
     "output_type": "stream",
     "text": [
      "File 'story.txt' not found!\n"
     ]
    }
   ],
   "source": [
    "def display_words():\n",
    "    try:\n",
    "        with open(\"story.txt\", \"r\") as file:\n",
    "            for line in file:\n",
    "                words = line.split()\n",
    "                short_words = [word for word in words if len(word) < 4]\n",
    "                print(\" \".join(short_words))\n",
    "    except FileNotFoundError:\n",
    "        print(\"File 'story.txt' not found!\")\n",
    "\n",
    "# Call the function\n",
    "display_words()"
   ]
  }
 ],
 "metadata": {
  "kernelspec": {
   "display_name": "Python 3 (ipykernel)",
   "language": "python",
   "name": "python3"
  },
  "language_info": {
   "codemirror_mode": {
    "name": "ipython",
    "version": 3
   },
   "file_extension": ".py",
   "mimetype": "text/x-python",
   "name": "python",
   "nbconvert_exporter": "python",
   "pygments_lexer": "ipython3",
   "version": "3.12.7"
  }
 },
 "nbformat": 4,
 "nbformat_minor": 5
}
