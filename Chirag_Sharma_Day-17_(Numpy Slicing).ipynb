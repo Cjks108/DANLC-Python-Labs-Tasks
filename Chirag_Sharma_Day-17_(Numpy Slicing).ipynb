{
 "cells": [
  {
   "cell_type": "markdown",
   "id": "866cb288-ca3c-41f5-9e9c-0b39ea0eab83",
   "metadata": {},
   "source": [
    "1. Write a NumPy program to create an array of 10 zeros, 10 ones, and 10 fives"
   ]
  },
  {
   "cell_type": "code",
   "execution_count": 1,
   "id": "f032f1da-b409-43b0-86b8-49de758e00d8",
   "metadata": {},
   "outputs": [
    {
     "name": "stdout",
     "output_type": "stream",
     "text": [
      "Array of 10 zeros: [0. 0. 0. 0. 0. 0. 0. 0. 0. 0.]\n",
      "Array of 10 ones: [1. 1. 1. 1. 1. 1. 1. 1. 1. 1.]\n",
      "Array of 10 fives: [5 5 5 5 5 5 5 5 5 5]\n"
     ]
    }
   ],
   "source": [
    "import numpy as np\n",
    "\n",
    "zeros_array = np.zeros(10)\n",
    "ones_array = np.ones(10)\n",
    "fives_array = np.full(10, 5)\n",
    "\n",
    "print(\"Array of 10 zeros:\", zeros_array)\n",
    "print(\"Array of 10 ones:\", ones_array)\n",
    "print(\"Array of 10 fives:\", fives_array)"
   ]
  },
  {
   "cell_type": "markdown",
   "id": "e1fdf3ca-a2fe-4296-97ed-26a31e393e1e",
   "metadata": {},
   "source": [
    "2. Write a NumPy program to create a 3x3 matrix with values ranging from 2 to 10."
   ]
  },
  {
   "cell_type": "code",
   "execution_count": 3,
   "id": "f1ea8b9a-7fb1-4435-8e50-39ec00eb16d7",
   "metadata": {},
   "outputs": [
    {
     "name": "stdout",
     "output_type": "stream",
     "text": [
      "3x3 Matrix with values from 2 to 10:\n",
      " [[ 2  3  4]\n",
      " [ 5  6  7]\n",
      " [ 8  9 10]]\n"
     ]
    }
   ],
   "source": [
    "matrix = np.arange(2, 11).reshape(3, 3)\n",
    "print(\"3x3 Matrix with values from 2 to 10:\\n\", matrix)"
   ]
  },
  {
   "cell_type": "markdown",
   "id": "2d2deb8f-4d8c-4a89-9d5e-66035356b6b0",
   "metadata": {},
   "source": [
    "3. Write a NumPy program to create an array with values ranging from 12 to 38."
   ]
  },
  {
   "cell_type": "code",
   "execution_count": 5,
   "id": "72c33bae-dd5b-4f4e-b790-faf9d46419bd",
   "metadata": {},
   "outputs": [
    {
     "name": "stdout",
     "output_type": "stream",
     "text": [
      "Array with values from 12 to 38: [12 13 14 15 16 17 18 19 20 21 22 23 24 25 26 27 28 29 30 31 32 33 34 35\n",
      " 36 37 38]\n"
     ]
    }
   ],
   "source": [
    "array_range = np.arange(12, 39)\n",
    "print(\"Array with values from 12 to 38:\", array_range)"
   ]
  },
  {
   "cell_type": "markdown",
   "id": "bcd6b9f8-fe20-4ffd-9264-e48162ec177b",
   "metadata": {},
   "source": [
    "4. Write a NumPy program to convert a list and tuple into arrays. Input: my_list = [1, 2, 3, 4, 5, 6, 7, 8] \n",
    "Input: my_tuple = ([8, 4, 6], [1, 2, 3])"
   ]
  },
  {
   "cell_type": "code",
   "execution_count": 7,
   "id": "1f87313c-3ce9-46f9-b52e-843532dbe4fd",
   "metadata": {},
   "outputs": [
    {
     "name": "stdout",
     "output_type": "stream",
     "text": [
      "Array from list: [1 2 3 4 5 6 7 8]\n",
      "Array from tuple:\n",
      " [[8 4 6]\n",
      " [1 2 3]]\n"
     ]
    }
   ],
   "source": [
    "my_list = [1, 2, 3, 4, 5, 6, 7, 8]\n",
    "my_tuple = ([8, 4, 6], [1, 2, 3])\n",
    "\n",
    "list_array = np.array(my_list)\n",
    "tuple_array = np.array(my_tuple)\n",
    "\n",
    "print(\"Array from list:\", list_array)\n",
    "print(\"Array from tuple:\\n\", tuple_array)"
   ]
  }
 ],
 "metadata": {
  "kernelspec": {
   "display_name": "Python 3 (ipykernel)",
   "language": "python",
   "name": "python3"
  },
  "language_info": {
   "codemirror_mode": {
    "name": "ipython",
    "version": 3
   },
   "file_extension": ".py",
   "mimetype": "text/x-python",
   "name": "python",
   "nbconvert_exporter": "python",
   "pygments_lexer": "ipython3",
   "version": "3.12.7"
  }
 },
 "nbformat": 4,
 "nbformat_minor": 5
}
