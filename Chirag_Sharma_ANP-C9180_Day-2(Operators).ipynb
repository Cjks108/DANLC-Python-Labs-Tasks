{
 "cells": [
  {
   "cell_type": "markdown",
   "id": "85480123-2107-4c8c-85ca-02eceee99482",
   "metadata": {},
   "source": [
    "Q1.Calculate the multiplication and sum of two numbers ."
   ]
  },
  {
   "cell_type": "code",
   "execution_count": 5,
   "id": "278a5fd8-fd2b-48eb-a8d3-4b4f106e6901",
   "metadata": {},
   "outputs": [
    {
     "name": "stdin",
     "output_type": "stream",
     "text": [
      "enter the first number: 12\n",
      "enter the second number: 5\n"
     ]
    },
    {
     "name": "stdout",
     "output_type": "stream",
     "text": [
      "the mult of 12.0 and 5.0 is : 60.0\n",
      "the sum of 12.0 and 5.0 is: 17.0\n"
     ]
    }
   ],
   "source": [
    "number1 = float(input('enter the first number:'))\n",
    "number2 = float(input('enter the second number:'))\n",
    "mult = number1 * number2\n",
    "add = number1 + number2\n",
    "print(f\"the mult of {number1} and {number2} is : {mult}\")\n",
    "print(f\"the sum of {number1} and {number2} is: {add}\")"
   ]
  },
  {
   "cell_type": "markdown",
   "id": "d1751665-7b58-47a1-b246-e70c54c022d7",
   "metadata": {},
   "source": [
    "Q2.Declare two variables and print that which variable is largest using ternary operators ."
   ]
  },
  {
   "cell_type": "code",
   "execution_count": 9,
   "id": "fde71dc1-8f69-46c2-adc0-3ec8b150d7da",
   "metadata": {},
   "outputs": [
    {
     "name": "stdin",
     "output_type": "stream",
     "text": [
      "enter the first number: 13 \n",
      "enter the second number: 12\n"
     ]
    },
    {
     "name": "stdout",
     "output_type": "stream",
     "text": [
      "the largest number between 13.0 and 12.0 is: 13.0\n"
     ]
    }
   ],
   "source": [
    "number1 = float(input('enter the first number:'))\n",
    "number2 = float(input('enter the second number:'))\n",
    "if number1>number2:\n",
    "    print(f\"the largest number between {number1} and {number2} is: {number1}\")\n",
    "else:\n",
    "    print(f\"the largest number between {number1} and {number2} is: {number2}\")"
   ]
  },
  {
   "cell_type": "markdown",
   "id": "6aa4025b-f746-476c-b51e-93252981606c",
   "metadata": {},
   "source": [
    "Q3.Python program to convert the temperature in degree centigrade to Fahrenheit."
   ]
  },
  {
   "cell_type": "code",
   "execution_count": 17,
   "id": "542da95f-f454-4617-bd80-e7ef14bca3fc",
   "metadata": {},
   "outputs": [
    {
     "name": "stdin",
     "output_type": "stream",
     "text": [
      "enter the temperature in celsius: 32\n"
     ]
    },
    {
     "name": "stdout",
     "output_type": "stream",
     "text": [
      "the temperature in fahrenheit is: 89.60F\n"
     ]
    }
   ],
   "source": [
    "celsius = float(input(\"enter the temperature in celsius:\"))\n",
    "fahrenheit = (celsius*9/5)+32\n",
    "print(f\"the temperature in fahrenheit is: {fahrenheit:.2f}F\")"
   ]
  },
  {
   "cell_type": "markdown",
   "id": "621c6316-60a6-434b-a1b6-64fa0d6f5c09",
   "metadata": {},
   "source": [
    "Q4.Python program to find the area of a triangle whose sides are given."
   ]
  },
  {
   "cell_type": "code",
   "execution_count": 23,
   "id": "810483d4-3b9e-47b6-89e1-3db98496ce56",
   "metadata": {},
   "outputs": [
    {
     "name": "stdin",
     "output_type": "stream",
     "text": [
      "enter side a: 4\n",
      "enter side b: 3\n",
      "enter side c: 2\n"
     ]
    },
    {
     "name": "stdout",
     "output_type": "stream",
     "text": [
      "the area of the triangle is:2.90\n"
     ]
    }
   ],
   "source": [
    "a = float(input(\"enter side a:\"))\n",
    "b = float(input(\"enter side b:\"))\n",
    "c = float(input(\"enter side c:\"))\n",
    "s = (a+b+c)/2\n",
    "area = (s*(s-a)*(s-b)*(s-c))**0.5\n",
    "print(f\"the area of the triangle is:{area:.2f}\")"
   ]
  },
  {
   "cell_type": "markdown",
   "id": "e003fddd-ca84-47ff-8a4a-21088d6b4baa",
   "metadata": {},
   "source": [
    "Q.5 Write a program for arithmatic operators"
   ]
  },
  {
   "cell_type": "code",
   "execution_count": null,
   "id": "a4569cf0-c9b5-4db1-b5bf-2790aadf9da0",
   "metadata": {},
   "outputs": [],
   "source": [
    "# Define variables\n",
    "a = 20\n",
    "b = 10\n",
    "\n",
    "# Perform arithmetic operations\n",
    "print(\"Addition:\", a + b)         # Addition\n",
    "print(\"Subtraction:\", a - b)      # Subtraction\n",
    "print(\"Multiplication:\", a * b)   # Multiplication\n",
    "print(\"Division:\", a / b)         # Division\n",
    "print(\"Modulus:\", a % b)          # Modulus (Remainder)\n",
    "print(\"Exponentiation:\", a ** b)  # Exponentiation (a^b)\n",
    "print(\"Floor Division:\", a // b)  # Floor Division\n"
   ]
  },
  {
   "cell_type": "markdown",
   "id": "b9459526-5746-4c42-943b-5fa71d8b17cc",
   "metadata": {},
   "source": [
    "Q.6 Write a program for assignment operators"
   ]
  },
  {
   "cell_type": "code",
   "execution_count": null,
   "id": "cf300825-ac30-45a9-b11f-ba583a2250e2",
   "metadata": {},
   "outputs": [],
   "source": [
    "# Initialize variable\n",
    "a = 10\n",
    "\n",
    "# Using assignment operators\n",
    "print(\"Initial value of a:\", a)\n",
    "\n",
    "a += 5  # Equivalent to: a = a + 5\n",
    "print(\"After a += 5:\", a)\n",
    "\n",
    "a -= 3  # Equivalent to: a = a - 3\n",
    "print(\"After a -= 3:\", a)\n",
    "\n",
    "a *= 2  # Equivalent to: a = a * 2\n",
    "print(\"After a *= 2:\", a)\n",
    "\n",
    "a /= 4  # Equivalent to: a = a / 4\n",
    "print(\"After a /= 4:\", a)\n",
    "\n",
    "a %= 3  # Equivalent to: a = a % 3\n",
    "print(\"After a %= 3:\", a)\n",
    "\n",
    "a **= 2  # Equivalent to: a = a ** 2\n",
    "print(\"After a **= 2:\", a)\n",
    "\n",
    "a //= 2  # Equivalent to: a = a // 2\n",
    "print(\"After a //= 2:\", a)"
   ]
  },
  {
   "cell_type": "markdown",
   "id": "68c858cd-407b-4af6-aebf-2e32a5559093",
   "metadata": {},
   "source": [
    "Q.7 Write a program for Bitwise operators "
   ]
  },
  {
   "cell_type": "code",
   "execution_count": null,
   "id": "74d45f8e-9873-4718-97ae-cad50ee4fb61",
   "metadata": {},
   "outputs": [],
   "source": [
    "# Define variables\n",
    "a = 10  # Binary: 1010\n",
    "b = 4   # Binary: 0100\n",
    "\n",
    "# Perform bitwise operations\n",
    "print(\"Bitwise AND (a & b):\", a & b)  # 1010 & 0100 = 0000 -> 0\n",
    "print(\"Bitwise OR (a | b):\", a | b)   # 1010 | 0100 = 1110 -> 14\n",
    "print(\"Bitwise XOR (a ^ b):\", a ^ b)  # 1010 ^ 0100 = 1110 -> 14\n",
    "print(\"Bitwise NOT (~a):\", ~a)        # ~1010 = -(1010 + 1) -> -11\n",
    "print(\"Left Shift (a << 2):\", a << 2) # 1010 << 2 = 101000 -> 40\n",
    "print(\"Right Shift (a >> 2):\", a >> 2) # 1010 >> 2 = 0010 -> 2"
   ]
  },
  {
   "cell_type": "markdown",
   "id": "4ca52173-3269-4ed9-8a9a-c4ebcfb65b22",
   "metadata": {},
   "source": [
    "Q.8 Write a program to calculate greatest of three numbers."
   ]
  },
  {
   "cell_type": "code",
   "execution_count": null,
   "id": "3d611d1e-7e9a-4354-8e81-221e5ba46343",
   "metadata": {},
   "outputs": [],
   "source": [
    "# Input three numbers\n",
    "a = int(input(\"Enter first number: \"))\n",
    "b = int(input(\"Enter second number: \"))\n",
    "c = int(input(\"Enter third number: \"))\n",
    "\n",
    "# Find the greatest number\n",
    "greatest = max(a, b, c)\n",
    "\n",
    "# Display the result\n",
    "print(\"The greatest number is:\", greatest)\n"
   ]
  },
  {
   "cell_type": "markdown",
   "id": "dd9836e6-2839-4493-aefe-2e1ecbfd302b",
   "metadata": {},
   "source": [
    "Q9.Calculate the area of a circle."
   ]
  },
  {
   "cell_type": "code",
   "execution_count": null,
   "id": "5baaf4f3-8c22-450e-8c3f-4dcac984ad0a",
   "metadata": {},
   "outputs": [],
   "source": [
    "import math  # Import math module for π (pi)\n",
    "\n",
    "# Input radius from user\n",
    "radius = float(input(\"Enter the radius of the circle: \"))\n",
    "\n",
    "# Calculate area using the formula: Area = π * r²\n",
    "area = math.pi * radius ** 2\n",
    "\n",
    "# Display the result\n",
    "print(\"The area of the circle is:\", area)"
   ]
  },
  {
   "cell_type": "markdown",
   "id": "3cc0c4db-27fe-4167-9c88-a672bc4b0be4",
   "metadata": {},
   "source": [
    "Q10.Calculate the area of a triangle."
   ]
  },
  {
   "cell_type": "code",
   "execution_count": null,
   "id": "6e25eeae-f297-4040-b610-796ec85786fd",
   "metadata": {},
   "outputs": [],
   "source": [
    "# Input base and height from user\n",
    "base = float(input(\"Enter the base of the triangle: \"))\n",
    "height = float(input(\"Enter the height of the triangle: \"))\n",
    "\n",
    "# Calculate area using the formula: Area = (1/2) * base * height\n",
    "area = 0.5 * base * height\n",
    "\n",
    "# Display the result\n",
    "print(\"The area of the triangle is:\", area)\n"
   ]
  },
  {
   "cell_type": "markdown",
   "id": "a8d3445b-2478-4c7a-b472-a0751d2b4783",
   "metadata": {},
   "source": [
    "Q11.Calculate the area of a rectangle."
   ]
  },
  {
   "cell_type": "code",
   "execution_count": null,
   "id": "635af4f9-a914-4311-bc1f-f311b899d9d7",
   "metadata": {},
   "outputs": [],
   "source": [
    "# Input length and width from user\n",
    "length = float(input(\"Enter the length of the rectangle: \"))\n",
    "width = float(input(\"Enter the width of the rectangle: \"))\n",
    "\n",
    "# Calculate area using the formula: Area = length × width\n",
    "area = length * width\n",
    "\n",
    "# Display the result\n",
    "print(\"The area of the rectangle is:\", area)"
   ]
  },
  {
   "cell_type": "markdown",
   "id": "ac0e1177-03db-4557-a034-d619416f9b91",
   "metadata": {},
   "source": [
    "Q12.Calculate the area of a square."
   ]
  },
  {
   "cell_type": "code",
   "execution_count": null,
   "id": "4559a9cc-adcb-4534-b31f-33c1cb0fd17c",
   "metadata": {},
   "outputs": [],
   "source": [
    "# Input side length from user\n",
    "side = float(input(\"Enter the side length of the square: \"))\n",
    "\n",
    "# Calculate area using the formula: Area = side × side\n",
    "area = side ** 2\n",
    "\n",
    "# Display the result\n",
    "print(\"The area of the square is:\", area)"
   ]
  }
 ],
 "metadata": {
  "kernelspec": {
   "display_name": "Python 3 (ipykernel)",
   "language": "python",
   "name": "python3"
  },
  "language_info": {
   "codemirror_mode": {
    "name": "ipython",
    "version": 3
   },
   "file_extension": ".py",
   "mimetype": "text/x-python",
   "name": "python",
   "nbconvert_exporter": "python",
   "pygments_lexer": "ipython3",
   "version": "3.12.7"
  }
 },
 "nbformat": 4,
 "nbformat_minor": 5
}
