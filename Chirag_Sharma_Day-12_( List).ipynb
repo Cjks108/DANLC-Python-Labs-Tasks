{
 "cells": [
  {
   "cell_type": "markdown",
   "id": "8f0a8ab4-8ad6-4709-9f71-3d1a2ea5e0e7",
   "metadata": {},
   "source": [
    "1.\tWrite a Python program to sum all the items in a list."
   ]
  },
  {
   "cell_type": "code",
   "execution_count": 123,
   "id": "7da1dc17-b477-4b91-aef6-48fbecd2fff1",
   "metadata": {},
   "outputs": [
    {
     "name": "stdout",
     "output_type": "stream",
     "text": [
      "Sum of list: 15\n"
     ]
    }
   ],
   "source": [
    "def sum_list(lst):\n",
    "    total = 0\n",
    "    for num in lst:\n",
    "        total += num\n",
    "    return total\n",
    "\n",
    "numbers = [1, 2, 3, 4, 5]\n",
    "print(\"Sum of list:\", sum_list(numbers))"
   ]
  },
  {
   "cell_type": "markdown",
   "id": "b531f597-f654-4303-9f7a-023fa31309ec",
   "metadata": {},
   "source": [
    "2.\tWrite a Python program to get the largest and smallest number from a list without builtin functions."
   ]
  },
  {
   "cell_type": "code",
   "execution_count": 125,
   "id": "a461b884-cf48-4ac7-9731-1802dd50126c",
   "metadata": {},
   "outputs": [
    {
     "name": "stdout",
     "output_type": "stream",
     "text": [
      "Smallest: 1, Largest: 9\n"
     ]
    }
   ],
   "source": [
    "def find_min_max(lst):\n",
    "    min_num = lst[0]\n",
    "    max_num = lst[0]\n",
    "    \n",
    "    for num in lst:\n",
    "        if num < min_num:\n",
    "            min_num = num\n",
    "        if num > max_num:\n",
    "            max_num = num\n",
    "    \n",
    "    return min_num, max_num\n",
    "\n",
    "numbers = [7, 2, 9, 1, 6, 3]\n",
    "smallest, largest = find_min_max(numbers)\n",
    "print(f\"Smallest: {smallest}, Largest: {largest}\")"
   ]
  },
  {
   "cell_type": "markdown",
   "id": "aa07ded5-6cf0-45dc-bced-42960b336835",
   "metadata": {},
   "source": [
    "3.\tWrite a Python program to find duplicate values from a list and display those."
   ]
  },
  {
   "cell_type": "code",
   "execution_count": 127,
   "id": "db43405e-8573-4e29-afc6-1d7f12ea31a4",
   "metadata": {},
   "outputs": [
    {
     "name": "stdout",
     "output_type": "stream",
     "text": [
      "Duplicate values: [1, 4]\n"
     ]
    }
   ],
   "source": [
    "def find_duplicates(lst):\n",
    "    seen = set()\n",
    "    duplicates = set()\n",
    "    \n",
    "    for num in lst:\n",
    "        if num in seen:\n",
    "            duplicates.add(num)\n",
    "        else:\n",
    "            seen.add(num)\n",
    "    \n",
    "    return list(duplicates)\n",
    "\n",
    "numbers = [1, 1, 2, 3, 4, 4, 5, 1]\n",
    "print(\"Duplicate values:\", find_duplicates(numbers))"
   ]
  },
  {
   "cell_type": "markdown",
   "id": "af6bc4b6-9ab8-4a3e-9b55-c6f784d46284",
   "metadata": {},
   "source": [
    "4. Write a Python program to split a given list into two parts where the length of the first part of the list is given.\n",
    "Original list: [1, 1, 2, 3, 4, 4, 5, 1]"
   ]
  },
  {
   "cell_type": "code",
   "execution_count": 129,
   "id": "78a81443-d11e-492d-91c7-7ec5b56bc61f",
   "metadata": {},
   "outputs": [
    {
     "name": "stdout",
     "output_type": "stream",
     "text": [
      "First part: [1, 1, 2, 3]\n",
      "Second part: [4, 4, 5, 1]\n"
     ]
    }
   ],
   "source": [
    "def split_list(lst, first_part_length):\n",
    "    first_part = lst[:first_part_length]\n",
    "    second_part = lst[first_part_length:]\n",
    "    return first_part, second_part\n",
    "\n",
    "numbers = [1, 1, 2, 3, 4, 4, 5, 1]\n",
    "first_part_length = 4\n",
    "part1, part2 = split_list(numbers, first_part_length)\n",
    "print(\"First part:\", part1)\n",
    "print(\"Second part:\", part2)"
   ]
  },
  {
   "cell_type": "markdown",
   "id": "f2dc8d0f-bf35-4d89-91a5-722667b0f8a3",
   "metadata": {},
   "source": [
    "5.\tWrite a Python program to traverse a given list in reverse order, and print the elements with the original index. Original list: ['red', 'green', 'white', 'black']"
   ]
  },
  {
   "cell_type": "code",
   "execution_count": 131,
   "id": "3275c23a-4db3-487a-9f61-2f11e43a413d",
   "metadata": {},
   "outputs": [
    {
     "name": "stdout",
     "output_type": "stream",
     "text": [
      "Index 3: black\n",
      "Index 2: white\n",
      "Index 1: green\n",
      "Index 0: red\n"
     ]
    }
   ],
   "source": [
    "def traverse_reverse(lst):\n",
    "    for i in range(len(lst)-1, -1, -1):\n",
    "        print(f\"Index {i}: {lst[i]}\")\n",
    "\n",
    "colors = ['red', 'green', 'white', 'black']\n",
    "traverse_reverse(colors)"
   ]
  }
 ],
 "metadata": {
  "kernelspec": {
   "display_name": "Python 3 (ipykernel)",
   "language": "python",
   "name": "python3"
  },
  "language_info": {
   "codemirror_mode": {
    "name": "ipython",
    "version": 3
   },
   "file_extension": ".py",
   "mimetype": "text/x-python",
   "name": "python",
   "nbconvert_exporter": "python",
   "pygments_lexer": "ipython3",
   "version": "3.12.7"
  }
 },
 "nbformat": 4,
 "nbformat_minor": 5
}
